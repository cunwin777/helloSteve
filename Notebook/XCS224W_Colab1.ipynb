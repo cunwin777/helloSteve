{
  "cells": [
    {
      "cell_type": "markdown",
      "metadata": {
        "id": "view-in-github",
        "colab_type": "text"
      },
      "source": [
        "<a href=\"https://colab.research.google.com/github/cunwin777/helloSteve/blob/main/Notebook/XCS224W_Colab1.ipynb\" target=\"_parent\"><img src=\"https://colab.research.google.com/assets/colab-badge.svg\" alt=\"Open In Colab\"/></a>"
      ]
    },
    {
      "cell_type": "markdown",
      "metadata": {
        "id": "XuXWJLEm2UWS"
      },
      "source": [
        "# **CS224W - Colab 1**\n",
        "\n",
        "[![Open In Colab](https://colab.research.google.com/assets/colab-badge.svg)](https://colab.research.google.com/github/scpd-proed/XCS224W-Colab1/blob/main/Notebook/XCS224W_Colab1.ipynb)\n",
        "\n",
        "Before opening the colab with the badge, you would need to allow Google Colab to access the GitHub private repositories. Please check therefore [this tutorial](https://colab.research.google.com/github/googlecolab/colabtools/blob/master/notebooks/colab-github-demo.ipynb#:~:text=Navigate%20to%20http%3A%2F%2Fcolab,to%20read%20the%20private%20files.).\n",
        "\n",
        "If colab is opened with this badge, make sure please **save copy to drive** in 'File' menu before running the notebook."
      ]
    },
    {
      "cell_type": "markdown",
      "metadata": {
        "id": "8gzsP50bF6Gb"
      },
      "source": [
        "In this Colab, you will write a pipeline for **learning node embeddings** in a graph. You will go through the following 3 steps:\n",
        "\n",
        "1.   To start, you will load the familiar [Karate Club Network](https://en.wikipedia.org/wiki/Zachary%27s_karate_club) from Colab 0. You will explore multiple graph statistics over this graph.\n",
        "2.   You will then work to transform the graph structure into a PyTorch tensor so that you can perform machine learning over the graph.\n",
        "\n",
        "3. Finally, you will write your first graph learning algorithm: a node embedding model. For simplicity, your model is simpler than the DeepWalk and node2vec algorithms taught in Module 1, Unit 1.2 - Node Embeddings. Nevertheless, it will still be rewarding and challenging, as you will write the whole procedure from scratch via PyTorch.\n",
        "\n",
        "Let's get started!\n",
        "\n",
        "**Note**: Make sure to **sequentially run all the cells** so that the intermediate variables / packages will carry over to the next cell"
      ]
    },
    {
      "cell_type": "markdown",
      "metadata": {
        "id": "FvduTt3oKimg"
      },
      "source": [
        "## Building + Debugging Notes\n",
        "While working through this Colab and future Colabs, we strongly encourage you to follow a couple of building / debugging strategies:\n",
        "- During debugging make sure to run your notebook using the CPU runtime. You can change the notebook runtime by selecting `Runtime` and then `Change runtime type`. From the dropdown, select `None` as the `hardware accelerator`.\n",
        "- When working with PyTorch and Neural Network models, understanding the shapes of different tensors, especially the input and output tensors is incredibly helpful.\n",
        "- When training models, it is helpful to start by only running 1 epoch or even just a couple of batch iterations. This way you can check that all your tensor shapes and logic match up, while also tracking expected behavior, such as a decreasing training loss. Remember to comment out / save the default number of epochs that we provide you.\n"
      ]
    },
    {
      "cell_type": "markdown",
      "metadata": {
        "id": "Nwwq0nSdmsOL"
      },
      "source": [
        "# 1) Graph Basics\n",
        "To start, load the [Karate Club Network](https://en.wikipedia.org/wiki/Zachary%27s_karate_club), a classical graph in network science. As discussed in the introduction, you will begin by exploring multiple graph statistics for this graph."
      ]
    },
    {
      "cell_type": "markdown",
      "metadata": {
        "id": "FDkpByYYfSzb"
      },
      "source": [
        "## Setup\n",
        "As introduced in Colab 0, NetworkX is a powerful package for storing and manipulating graphs. We will heavily rely on NetworkX throughout this Colab."
      ]
    },
    {
      "cell_type": "code",
      "execution_count": 1,
      "metadata": {
        "id": "VWPkJjPAfVNW"
      },
      "outputs": [],
      "source": [
        "import networkx as nx\n",
        "import os"
      ]
    },
    {
      "cell_type": "markdown",
      "metadata": {
        "id": "VqUnYT5qUZYh"
      },
      "source": [
        "## Zachary's karate club network\n",
        "\n",
        "The [Karate Club Network](https://en.wikipedia.org/wiki/Zachary%27s_karate_club) is a social network graph of 34 members of a karate club, where links exist between members who have interacted outside the club."
      ]
    },
    {
      "cell_type": "code",
      "execution_count": 2,
      "metadata": {
        "colab": {
          "base_uri": "https://localhost:8080/",
          "height": 186
        },
        "id": "VIETqEfrfy5Y",
        "outputId": "0457c282-a792-4bdb-ca27-3a65b775ffb7"
      },
      "outputs": [
        {
          "output_type": "execute_result",
          "data": {
            "text/plain": [
              "networkx.classes.graph.Graph"
            ],
            "text/html": [
              "<div style=\"max-width:800px; border: 1px solid var(--colab-border-color);\"><style>\n",
              "      pre.function-repr-contents {\n",
              "        overflow-x: auto;\n",
              "        padding: 8px 12px;\n",
              "        max-height: 500px;\n",
              "      }\n",
              "\n",
              "      pre.function-repr-contents.function-repr-contents-collapsed {\n",
              "        cursor: pointer;\n",
              "        max-height: 100px;\n",
              "      }\n",
              "    </style>\n",
              "    <pre style=\"white-space: initial; background:\n",
              "         var(--colab-secondary-surface-color); padding: 8px 12px;\n",
              "         border-bottom: 1px solid var(--colab-border-color);\"><b>networkx.classes.graph.Graph</b><br/>def __init__(incoming_graph_data=None, **attr)</pre><pre class=\"function-repr-contents function-repr-contents-collapsed\" style=\"\"><a class=\"filepath\" style=\"display:none\" href=\"#\">/usr/local/lib/python3.11/dist-packages/networkx/classes/graph.py</a>Base class for undirected graphs.\n",
              "\n",
              "A Graph stores nodes and edges with optional data, or attributes.\n",
              "\n",
              "Graphs hold undirected edges.  Self loops are allowed but multiple\n",
              "(parallel) edges are not.\n",
              "\n",
              "Nodes can be arbitrary (hashable) Python objects with optional\n",
              "key/value attributes, except that `None` is not allowed as a node.\n",
              "\n",
              "Edges are represented as links between nodes with optional\n",
              "key/value attributes.\n",
              "\n",
              "Parameters\n",
              "----------\n",
              "incoming_graph_data : input graph (optional, default: None)\n",
              "    Data to initialize graph. If None (default) an empty\n",
              "    graph is created.  The data can be any format that is supported\n",
              "    by the to_networkx_graph() function, currently including edge list,\n",
              "    dict of dicts, dict of lists, NetworkX graph, 2D NumPy array, SciPy\n",
              "    sparse matrix, or PyGraphviz graph.\n",
              "\n",
              "attr : keyword arguments, optional (default= no attributes)\n",
              "    Attributes to add to graph as key=value pairs.\n",
              "\n",
              "See Also\n",
              "--------\n",
              "DiGraph\n",
              "MultiGraph\n",
              "MultiDiGraph\n",
              "\n",
              "Examples\n",
              "--------\n",
              "Create an empty graph structure (a &quot;null graph&quot;) with no nodes and\n",
              "no edges.\n",
              "\n",
              "&gt;&gt;&gt; G = nx.Graph()\n",
              "\n",
              "G can be grown in several ways.\n",
              "\n",
              "**Nodes:**\n",
              "\n",
              "Add one node at a time:\n",
              "\n",
              "&gt;&gt;&gt; G.add_node(1)\n",
              "\n",
              "Add the nodes from any container (a list, dict, set or\n",
              "even the lines from a file or the nodes from another graph).\n",
              "\n",
              "&gt;&gt;&gt; G.add_nodes_from([2, 3])\n",
              "&gt;&gt;&gt; G.add_nodes_from(range(100, 110))\n",
              "&gt;&gt;&gt; H = nx.path_graph(10)\n",
              "&gt;&gt;&gt; G.add_nodes_from(H)\n",
              "\n",
              "In addition to strings and integers any hashable Python object\n",
              "(except None) can represent a node, e.g. a customized node object,\n",
              "or even another Graph.\n",
              "\n",
              "&gt;&gt;&gt; G.add_node(H)\n",
              "\n",
              "**Edges:**\n",
              "\n",
              "G can also be grown by adding edges.\n",
              "\n",
              "Add one edge,\n",
              "\n",
              "&gt;&gt;&gt; G.add_edge(1, 2)\n",
              "\n",
              "a list of edges,\n",
              "\n",
              "&gt;&gt;&gt; G.add_edges_from([(1, 2), (1, 3)])\n",
              "\n",
              "or a collection of edges,\n",
              "\n",
              "&gt;&gt;&gt; G.add_edges_from(H.edges)\n",
              "\n",
              "If some edges connect nodes not yet in the graph, the nodes\n",
              "are added automatically.  There are no errors when adding\n",
              "nodes or edges that already exist.\n",
              "\n",
              "**Attributes:**\n",
              "\n",
              "Each graph, node, and edge can hold key/value attribute pairs\n",
              "in an associated attribute dictionary (the keys must be hashable).\n",
              "By default these are empty, but can be added or changed using\n",
              "add_edge, add_node or direct manipulation of the attribute\n",
              "dictionaries named graph, node and edge respectively.\n",
              "\n",
              "&gt;&gt;&gt; G = nx.Graph(day=&quot;Friday&quot;)\n",
              "&gt;&gt;&gt; G.graph\n",
              "{&#x27;day&#x27;: &#x27;Friday&#x27;}\n",
              "\n",
              "Add node attributes using add_node(), add_nodes_from() or G.nodes\n",
              "\n",
              "&gt;&gt;&gt; G.add_node(1, time=&quot;5pm&quot;)\n",
              "&gt;&gt;&gt; G.add_nodes_from([3], time=&quot;2pm&quot;)\n",
              "&gt;&gt;&gt; G.nodes[1]\n",
              "{&#x27;time&#x27;: &#x27;5pm&#x27;}\n",
              "&gt;&gt;&gt; G.nodes[1][&quot;room&quot;] = 714  # node must exist already to use G.nodes\n",
              "&gt;&gt;&gt; del G.nodes[1][&quot;room&quot;]  # remove attribute\n",
              "&gt;&gt;&gt; list(G.nodes(data=True))\n",
              "[(1, {&#x27;time&#x27;: &#x27;5pm&#x27;}), (3, {&#x27;time&#x27;: &#x27;2pm&#x27;})]\n",
              "\n",
              "Add edge attributes using add_edge(), add_edges_from(), subscript\n",
              "notation, or G.edges.\n",
              "\n",
              "&gt;&gt;&gt; G.add_edge(1, 2, weight=4.7)\n",
              "&gt;&gt;&gt; G.add_edges_from([(3, 4), (4, 5)], color=&quot;red&quot;)\n",
              "&gt;&gt;&gt; G.add_edges_from([(1, 2, {&quot;color&quot;: &quot;blue&quot;}), (2, 3, {&quot;weight&quot;: 8})])\n",
              "&gt;&gt;&gt; G[1][2][&quot;weight&quot;] = 4.7\n",
              "&gt;&gt;&gt; G.edges[1, 2][&quot;weight&quot;] = 4\n",
              "\n",
              "Warning: we protect the graph data structure by making `G.edges` a\n",
              "read-only dict-like structure. However, you can assign to attributes\n",
              "in e.g. `G.edges[1, 2]`. Thus, use 2 sets of brackets to add/change\n",
              "data attributes: `G.edges[1, 2][&#x27;weight&#x27;] = 4`\n",
              "(For multigraphs: `MG.edges[u, v, key][name] = value`).\n",
              "\n",
              "**Shortcuts:**\n",
              "\n",
              "Many common graph features allow python syntax to speed reporting.\n",
              "\n",
              "&gt;&gt;&gt; 1 in G  # check if node in graph\n",
              "True\n",
              "&gt;&gt;&gt; [n for n in G if n &lt; 3]  # iterate through nodes\n",
              "[1, 2]\n",
              "&gt;&gt;&gt; len(G)  # number of nodes in graph\n",
              "5\n",
              "\n",
              "Often the best way to traverse all edges of a graph is via the neighbors.\n",
              "The neighbors are reported as an adjacency-dict `G.adj` or `G.adjacency()`\n",
              "\n",
              "&gt;&gt;&gt; for n, nbrsdict in G.adjacency():\n",
              "...     for nbr, eattr in nbrsdict.items():\n",
              "...         if &quot;weight&quot; in eattr:\n",
              "...             # Do something useful with the edges\n",
              "...             pass\n",
              "\n",
              "But the edges() method is often more convenient:\n",
              "\n",
              "&gt;&gt;&gt; for u, v, weight in G.edges.data(&quot;weight&quot;):\n",
              "...     if weight is not None:\n",
              "...         # Do something useful with the edges\n",
              "...         pass\n",
              "\n",
              "**Reporting:**\n",
              "\n",
              "Simple graph information is obtained using object-attributes and methods.\n",
              "Reporting typically provides views instead of containers to reduce memory\n",
              "usage. The views update as the graph is updated similarly to dict-views.\n",
              "The objects `nodes`, `edges` and `adj` provide access to data attributes\n",
              "via lookup (e.g. `nodes[n]`, `edges[u, v]`, `adj[u][v]`) and iteration\n",
              "(e.g. `nodes.items()`, `nodes.data(&#x27;color&#x27;)`,\n",
              "`nodes.data(&#x27;color&#x27;, default=&#x27;blue&#x27;)` and similarly for `edges`)\n",
              "Views exist for `nodes`, `edges`, `neighbors()`/`adj` and `degree`.\n",
              "\n",
              "For details on these and other miscellaneous methods, see below.\n",
              "\n",
              "**Subclasses (Advanced):**\n",
              "\n",
              "The Graph class uses a dict-of-dict-of-dict data structure.\n",
              "The outer dict (node_dict) holds adjacency information keyed by node.\n",
              "The next dict (adjlist_dict) represents the adjacency information and holds\n",
              "edge data keyed by neighbor.  The inner dict (edge_attr_dict) represents\n",
              "the edge data and holds edge attribute values keyed by attribute names.\n",
              "\n",
              "Each of these three dicts can be replaced in a subclass by a user defined\n",
              "dict-like object. In general, the dict-like features should be\n",
              "maintained but extra features can be added. To replace one of the\n",
              "dicts create a new graph class by changing the class(!) variable\n",
              "holding the factory for that dict-like structure.\n",
              "\n",
              "node_dict_factory : function, (default: dict)\n",
              "    Factory function to be used to create the dict containing node\n",
              "    attributes, keyed by node id.\n",
              "    It should require no arguments and return a dict-like object\n",
              "\n",
              "node_attr_dict_factory: function, (default: dict)\n",
              "    Factory function to be used to create the node attribute\n",
              "    dict which holds attribute values keyed by attribute name.\n",
              "    It should require no arguments and return a dict-like object\n",
              "\n",
              "adjlist_outer_dict_factory : function, (default: dict)\n",
              "    Factory function to be used to create the outer-most dict\n",
              "    in the data structure that holds adjacency info keyed by node.\n",
              "    It should require no arguments and return a dict-like object.\n",
              "\n",
              "adjlist_inner_dict_factory : function, (default: dict)\n",
              "    Factory function to be used to create the adjacency list\n",
              "    dict which holds edge data keyed by neighbor.\n",
              "    It should require no arguments and return a dict-like object\n",
              "\n",
              "edge_attr_dict_factory : function, (default: dict)\n",
              "    Factory function to be used to create the edge attribute\n",
              "    dict which holds attribute values keyed by attribute name.\n",
              "    It should require no arguments and return a dict-like object.\n",
              "\n",
              "graph_attr_dict_factory : function, (default: dict)\n",
              "    Factory function to be used to create the graph attribute\n",
              "    dict which holds attribute values keyed by attribute name.\n",
              "    It should require no arguments and return a dict-like object.\n",
              "\n",
              "Typically, if your extension doesn&#x27;t impact the data structure all\n",
              "methods will inherit without issue except: `to_directed/to_undirected`.\n",
              "By default these methods create a DiGraph/Graph class and you probably\n",
              "want them to create your extension of a DiGraph/Graph. To facilitate\n",
              "this we define two class variables that you can set in your subclass.\n",
              "\n",
              "to_directed_class : callable, (default: DiGraph or MultiDiGraph)\n",
              "    Class to create a new graph structure in the `to_directed` method.\n",
              "    If `None`, a NetworkX class (DiGraph or MultiDiGraph) is used.\n",
              "\n",
              "to_undirected_class : callable, (default: Graph or MultiGraph)\n",
              "    Class to create a new graph structure in the `to_undirected` method.\n",
              "    If `None`, a NetworkX class (Graph or MultiGraph) is used.\n",
              "\n",
              "**Subclassing Example**\n",
              "\n",
              "Create a low memory graph class that effectively disallows edge\n",
              "attributes by using a single attribute dict for all edges.\n",
              "This reduces the memory used, but you lose edge attributes.\n",
              "\n",
              "&gt;&gt;&gt; class ThinGraph(nx.Graph):\n",
              "...     all_edge_dict = {&quot;weight&quot;: 1}\n",
              "...\n",
              "...     def single_edge_dict(self):\n",
              "...         return self.all_edge_dict\n",
              "...\n",
              "...     edge_attr_dict_factory = single_edge_dict\n",
              "&gt;&gt;&gt; G = ThinGraph()\n",
              "&gt;&gt;&gt; G.add_edge(2, 1)\n",
              "&gt;&gt;&gt; G[2][1]\n",
              "{&#x27;weight&#x27;: 1}\n",
              "&gt;&gt;&gt; G.add_edge(2, 2)\n",
              "&gt;&gt;&gt; G[2][1] is G[2][2]\n",
              "True</pre>\n",
              "      <script>\n",
              "      if (google.colab.kernel.accessAllowed && google.colab.files && google.colab.files.view) {\n",
              "        for (const element of document.querySelectorAll('.filepath')) {\n",
              "          element.style.display = 'block'\n",
              "          element.onclick = (event) => {\n",
              "            event.preventDefault();\n",
              "            event.stopPropagation();\n",
              "            google.colab.files.view(element.textContent, 71);\n",
              "          };\n",
              "        }\n",
              "      }\n",
              "      for (const element of document.querySelectorAll('.function-repr-contents')) {\n",
              "        element.onclick = (event) => {\n",
              "          event.preventDefault();\n",
              "          event.stopPropagation();\n",
              "          element.classList.toggle('function-repr-contents-collapsed');\n",
              "        };\n",
              "      }\n",
              "      </script>\n",
              "      </div>"
            ]
          },
          "metadata": {},
          "execution_count": 2
        }
      ],
      "source": [
        "G = nx.karate_club_graph()\n",
        "\n",
        "# G is an undirected graph\n",
        "type(G)"
      ]
    },
    {
      "cell_type": "code",
      "execution_count": 3,
      "metadata": {
        "colab": {
          "base_uri": "https://localhost:8080/",
          "height": 516
        },
        "id": "hDvf3nm-ors4",
        "outputId": "dec79b75-d3f8-41aa-c6b7-c9dec4a52384"
      },
      "outputs": [
        {
          "output_type": "display_data",
          "data": {
            "text/plain": [
              "<Figure size 640x480 with 1 Axes>"
            ],
            "image/png": "[encoded data removed]"
          },
          "metadata": {}
        }
      ],
      "source": [
        "# Visualize the graph\n",
        "if 'IS_GRADESCOPE_ENV' not in os.environ:\n",
        "  nx.draw(G, with_labels = True)"
      ]
    },
    {
      "cell_type": "markdown",
      "metadata": {
        "id": "FX25Y1CrYmgN"
      },
      "source": [
        "## Question 1: What is the average degree of the karate club network? (1 Points)"
      ]
    },
    {
      "cell_type": "code",
      "execution_count": 4,
      "metadata": {
        "colab": {
          "base_uri": "https://localhost:8080/"
        },
        "id": "AUhES1VYo3tB",
        "outputId": "fd107559-9fd5-4af2-85cd-eccda748392c"
      },
      "outputs": [
        {
          "output_type": "stream",
          "name": "stdout",
          "text": [
            "Average degree of karate club network is 2\n"
          ]
        }
      ],
      "source": [
        "def average_degree(num_edges, num_nodes):\n",
        "  # TODO: Implement a function that takes the number of edges\n",
        "  # and number of nodes of a graph and returns the average node degree of\n",
        "  # the graph. Round the result to nearest integer (for example\n",
        "  # 3.3 will be rounded to 3 and 3.7 will be rounded to 4).\n",
        "\n",
        "  avg_degree = 0\n",
        "\n",
        "  ############# Your code here ############\n",
        "  avg_degree = int(num_edges/num_nodes)\n",
        "  ## Note:\n",
        "  ## 1: Do not import any other Python package\n",
        "  ## 2: Do not use any function from NetworkX\n",
        "  pass\n",
        "  #########################################\n",
        "\n",
        "  return avg_degree\n",
        "\n",
        "if 'IS_GRADESCOPE_ENV' not in os.environ:\n",
        "  num_edges = G.number_of_edges()\n",
        "  num_nodes = G.number_of_nodes()\n",
        "  avg_degree = average_degree(num_edges, num_nodes)\n",
        "  print(\"Average degree of karate club network is {}\".format(avg_degree))"
      ]
    },
    {
      "cell_type": "markdown",
      "metadata": {
        "id": "Fk02fD4vYmZI"
      },
      "source": [
        "## Question 2: What is the average clustering coefficient of the karate club network? (1 Points)"
      ]
    },
    {
      "cell_type": "code",
      "execution_count": 5,
      "metadata": {
        "colab": {
          "base_uri": "https://localhost:8080/"
        },
        "id": "k15XKEto1aYJ",
        "outputId": "44d02008-4bb4-4465-9ce5-aa852c35a54b"
      },
      "outputs": [
        {
          "output_type": "stream",
          "name": "stdout",
          "text": [
            "Average clustering coefficient of karate club network is 0.57\n"
          ]
        }
      ],
      "source": [
        "def average_clustering_coefficient(G):\n",
        "  # TODO: Implement a function that takes a nx.Graph\n",
        "  # and returns the average clustering coefficient. Round\n",
        "  # the result to 2 decimal places (for example 3.333 will\n",
        "  # be rounded to 3.33 and 3.7571 will be rounded to 3.76)\n",
        "\n",
        "  avg_cluster_coef = 0\n",
        "\n",
        "  ############# Your code here ############\n",
        "  avg_cluster_coef = round(nx.average_clustering(G),2)\n",
        "  ## Note:\n",
        "  ## 1: Please use the appropriate NetworkX clustering function\n",
        "  ## https://networkx.org/documentation/stable/reference/algorithms/clustering.html\n",
        "  pass\n",
        "  #########################################\n",
        "\n",
        "  return avg_cluster_coef\n",
        "\n",
        "if 'IS_GRADESCOPE_ENV' not in os.environ:\n",
        "  avg_cluster_coef = average_clustering_coefficient(G)\n",
        "  print(\"Average clustering coefficient of karate club network is {}\".format(avg_cluster_coef))"
      ]
    },
    {
      "cell_type": "markdown",
      "metadata": {
        "id": "zghQ-AhXYmP4"
      },
      "source": [
        "## Question 3: What is the PageRank value for node 0 (node with id 0) after one PageRank iteration? (5 Points)\n",
        "\n",
        "Please complete the code block by implementing the PageRank equation: $r_j^{t+1} = [\\sum_{i \\rightarrow j} \\beta \\frac{r_i^t}{d_i}] + (1 - \\beta) \\frac{1}{N}$ to update the PageRank value of an arbitrary node j for the first time step $t = 0 \\rightarrow t = 1$.\n",
        "\n",
        "**NOTE:** $r_j^0 = 1 / |N|$ for all nodes j (where $N$ is the number of nodes in the graph). Namely, at $t=0$ every node is initialized with the same PageRank value."
      ]
    },
    {
      "cell_type": "code",
      "execution_count": 7,
      "metadata": {
        "colab": {
          "base_uri": "https://localhost:8080/"
        },
        "id": "BOGdWjNc6O7x",
        "outputId": "3e969235-2df2-43bd-cd1c-99bdd0dc2d61"
      },
      "outputs": [
        {
          "output_type": "stream",
          "name": "stdout",
          "text": [
            "The PageRank value for node 0 after one iteration is 0.13\n"
          ]
        }
      ],
      "source": [
        "def one_iter_pagerank(G, beta, r0, node_id):\n",
        "  # TODO: Implement a function that takes as input a nx.Graph, beta, r0\n",
        "  # and node_id. Then for the given node_id = j, compute rj_1 as\n",
        "  # the PageRank of the input node j at time t = 1 (i.e. after ONE iteration).\n",
        "  #\n",
        "  # Round the result to 2 decimal places (for example 3.333 will\n",
        "  # be rounded to 3.33 and 3.7571 will be rounded to 3.76)\n",
        "  #\n",
        "  # NOTE: rj_0 = r0 for every node j (i.e. each node is initialized with\n",
        "  # the same PageRank value at t = 0; thus we do not need an initial PageRank\n",
        "  # vector r).\n",
        "\n",
        "  rj_1 = 0\n",
        "\n",
        "  ############# Your code here ############\n",
        "  #The beta bit will be the same for all the nodes\n",
        "  N = G.number_of_nodes()\n",
        "\n",
        "\n",
        "  # I need to know how many outward connections each of the nodes that connect to the node I care about has.  Because this is an\n",
        "  # undirected graph I'm going with neighbors\n",
        "\n",
        "  for n in nx.neighbors(G,node_id):\n",
        "      rj_1 += r0/(len(list(nx.neighbors(G, n))))\n",
        "\n",
        "\n",
        "  # Now do the formula stuff\n",
        "  rj_1 = beta * rj_1 + (1 - beta)/N\n",
        "  rj_1 = round(rj_1,2)\n",
        "  ## Note:\n",
        "  ## 1: You should not use nx.pagerank!\n",
        "  pass\n",
        "  #########################################\n",
        "\n",
        "  return rj_1\n",
        "\n",
        "if 'IS_GRADESCOPE_ENV' not in os.environ:\n",
        "  beta = 0.8\n",
        "  r0 = 1 / G.number_of_nodes()\n",
        "  node = 0\n",
        "  r0_1 = one_iter_pagerank(G, beta, r0, node)\n",
        "  print(\"The PageRank value for node 0 after one iteration is {}\".format(r0_1))"
      ]
    },
    {
      "cell_type": "markdown",
      "metadata": {
        "id": "icTcOULeYmIu"
      },
      "source": [
        "## Question 4: What is the (raw) closeness centrality for the node with id=5 in the karate club network? (1 Points)\n",
        "\n",
        "The equation for closeness centrality is $c(v) = \\frac{1}{\\sum_{u \\neq v}\\text{shortest path length between } u \\text{ and } v}$. Remember that we want the raw (unnormalized) closeness centrality from Module 1, Unit 1.1 - Traditional Feature Based Methods."
      ]
    },
    {
      "cell_type": "code",
      "execution_count": 8,
      "metadata": {
        "colab": {
          "base_uri": "https://localhost:8080/"
        },
        "id": "XbCsq_tl-3ok",
        "outputId": "9e5b0a70-f08e-4f34-b2a8-4e27c1443852"
      },
      "outputs": [
        {
          "output_type": "stream",
          "name": "stdout",
          "text": [
            "The karate club network has closeness centrality 0.38\n"
          ]
        }
      ],
      "source": [
        "def closeness_centrality(G, node=5):\n",
        "  # TODO: Implement a function that calculates closeness centrality\n",
        "  # for a node in the karate club network. G is the input karate club\n",
        "  # network and 'node' is the node id of the node that we are interested\n",
        "  # in. Please round the closeness centrality result to 2 decimal places.\n",
        "\n",
        "  closeness = 0\n",
        "\n",
        "  ############# Your code here ############\n",
        "  closeness = nx.closeness_centrality(G,node)\n",
        "  closeness = round(closeness, 2)\n",
        "  ## Note:\n",
        "  ## 1: You can use networkx closeness centrality function.\n",
        "  ## 2: Notice that networkx closeness centrality returns the normalized\n",
        "  ## closeness directly, which is different from the raw (unnormalized)\n",
        "  ## one that we learned in the lecture.\n",
        "  pass\n",
        "  #########################################\n",
        "\n",
        "  return closeness\n",
        "\n",
        "if 'IS_GRADESCOPE_ENV' not in os.environ:\n",
        "  node = 5\n",
        "  closeness = closeness_centrality(G, node=node)\n",
        "  print(\"The karate club network has closeness centrality {}\".format(closeness))"
      ]
    },
    {
      "cell_type": "markdown",
      "metadata": {
        "id": "-MxvowibYl4x"
      },
      "source": [
        "# 2) Graph to Tensor\n",
        "Now, you will work to transform the graph $G$ into a PyTorch tensor, so that you can perform machine learning over the graph."
      ]
    },
    {
      "cell_type": "markdown",
      "metadata": {
        "id": "eDA8PosrA-9V"
      },
      "source": [
        "## Setup\n",
        "Check if PyTorch is properly installed"
      ]
    },
    {
      "cell_type": "code",
      "execution_count": 9,
      "metadata": {
        "colab": {
          "base_uri": "https://localhost:8080/"
        },
        "id": "ntuPVat_BAf1",
        "outputId": "c5fded3a-1dcb-4039-a662-9566f3e364db"
      },
      "outputs": [
        {
          "output_type": "stream",
          "name": "stdout",
          "text": [
            "2.6.0+cu124\n"
          ]
        }
      ],
      "source": [
        "import torch\n",
        "print(torch.__version__)"
      ]
    },
    {
      "cell_type": "markdown",
      "metadata": {
        "id": "fko_2wSKYlun"
      },
      "source": [
        "## PyTorch tensor basics\n",
        "\n",
        "Generate PyTorch tensor with all zeros, ones or random values."
      ]
    },
    {
      "cell_type": "code",
      "execution_count": 10,
      "metadata": {
        "colab": {
          "base_uri": "https://localhost:8080/"
        },
        "id": "W2ySw3m-A9qF",
        "outputId": "de539777-e5f0-43ec-e2ee-ec03962daf97"
      },
      "outputs": [
        {
          "output_type": "stream",
          "name": "stdout",
          "text": [
            "tensor([[1., 1., 1., 1.],\n",
            "        [1., 1., 1., 1.],\n",
            "        [1., 1., 1., 1.]])\n",
            "tensor([[0., 0., 0., 0.],\n",
            "        [0., 0., 0., 0.],\n",
            "        [0., 0., 0., 0.]])\n",
            "tensor([[0.7438, 0.0607, 0.1034, 0.8507],\n",
            "        [0.1846, 0.5578, 0.7875, 0.5310],\n",
            "        [0.8717, 0.4812, 0.3657, 0.6725]])\n",
            "torch.Size([3, 4])\n"
          ]
        }
      ],
      "source": [
        "# Generate 3 x 4 tensor with all ones\n",
        "ones = torch.ones(3, 4)\n",
        "print(ones)\n",
        "\n",
        "# Generate 3 x 4 tensor with all zeros\n",
        "zeros = torch.zeros(3, 4)\n",
        "print(zeros)\n",
        "\n",
        "# Generate 3 x 4 tensor with random values on the interval [0, 1)\n",
        "random_tensor = torch.rand(3, 4)\n",
        "print(random_tensor)\n",
        "\n",
        "# Get the shape of the tensor\n",
        "print(ones.shape)"
      ]
    },
    {
      "cell_type": "markdown",
      "metadata": {
        "id": "x8mp66eHBxWC"
      },
      "source": [
        "PyTorch tensors contains elements for a single data type, the `dtype`."
      ]
    },
    {
      "cell_type": "code",
      "execution_count": 11,
      "metadata": {
        "colab": {
          "base_uri": "https://localhost:8080/"
        },
        "id": "rQiOvKJJBwq4",
        "outputId": "cd1654a4-2d38-463d-d7dd-d24426f1286b"
      },
      "outputs": [
        {
          "output_type": "stream",
          "name": "stdout",
          "text": [
            "torch.float32\n",
            "torch.int64\n"
          ]
        }
      ],
      "source": [
        "# Create a 3 x 4 tensor with all 32-bit floating point zeros\n",
        "zeros = torch.zeros(3, 4, dtype=torch.float32)\n",
        "print(zeros.dtype)\n",
        "\n",
        "# Change the tensor dtype to 64-bit integer\n",
        "zeros = zeros.type(torch.long)\n",
        "print(zeros.dtype)"
      ]
    },
    {
      "cell_type": "markdown",
      "metadata": {
        "id": "I9EfegIRDkk2"
      },
      "source": [
        "## Question 5: Get the edge list of the karate club network and transform it into `torch.LongTensor`. What is the `torch.sum` value of the `pos_edge_index` tensor? (2 Points)"
      ]
    },
    {
      "cell_type": "code",
      "execution_count": 12,
      "metadata": {
        "colab": {
          "base_uri": "https://localhost:8080/"
        },
        "id": "kEtVxMFID3ZT",
        "outputId": "4e43baad-bbc5-4497-91c5-ff4ab2cfebc6"
      },
      "outputs": [
        {
          "output_type": "stream",
          "name": "stdout",
          "text": [
            "The pos_edge_index tensor has shape torch.Size([2, 78])\n",
            "The pos_edge_index tensor has sum value 2535\n"
          ]
        }
      ],
      "source": [
        "def graph_to_edge_list(G):\n",
        "  # TODO: Implement a function that returns the edge list of\n",
        "  # a nx.Graph. The returned edge_list should be a list of tuples\n",
        "  # where each tuple represents an edge between two nodes.\n",
        "\n",
        "  edge_list = []\n",
        "\n",
        "  ############# Your code here ############\n",
        "  edge_list = list(nx.edges(G))\n",
        "  ## Note:\n",
        "  ## Try to use simple networkx functions.\n",
        "  pass\n",
        "  #########################################\n",
        "\n",
        "  return edge_list\n",
        "\n",
        "def edge_list_to_tensor(edge_list):\n",
        "  # TODO: Implement a function that transforms an edge_list to a\n",
        "  # tensor. The input edge_list is a list of tuples and the resulting\n",
        "  # tensor should have the shape [2, len(edge_list)].\n",
        "\n",
        "  edge_index = torch.tensor([])\n",
        "\n",
        "  ############# Your code here ############\n",
        "  edge_index = torch.tensor(edge_list)\n",
        "  edge_index = edge_index.t()\n",
        "  pass\n",
        "  #########################################\n",
        "\n",
        "  return edge_index\n",
        "\n",
        "if 'IS_GRADESCOPE_ENV' not in os.environ:\n",
        "  pos_edge_list = graph_to_edge_list(G)\n",
        "  pos_edge_index = edge_list_to_tensor(pos_edge_list)\n",
        "  print(\"The pos_edge_index tensor has shape {}\".format(pos_edge_index.shape))\n",
        "  print(\"The pos_edge_index tensor has sum value {}\".format(torch.sum(pos_edge_index)))"
      ]
    },
    {
      "cell_type": "markdown",
      "metadata": {
        "id": "UBL-ZmdHWqIu"
      },
      "source": [
        "## Question 6: Implement a function that samples negative edges. A negative edge exists between nodes $u$ and $v$ if there is no edge between $u$ and $v$ in the original graph.\n",
        "\n",
        "## Then, write a short function to answer which edges (edge_1 - edge_5) can be negative edges in the karate club network? (7.5 Points)"
      ]
    },
    {
      "cell_type": "code",
      "execution_count": 24,
      "metadata": {
        "colab": {
          "base_uri": "https://localhost:8080/"
        },
        "id": "9N8VT1f8-IJ8",
        "outputId": "f7f2c786-1a1c-449a-ddc1-8fa43aabd609"
      },
      "outputs": [
        {
          "output_type": "stream",
          "name": "stdout",
          "text": [
            "The neg_edge_index tensor has shape torch.Size([2, 78])\n",
            "(7, 1) True\n",
            "(1, 33) True\n",
            "(33, 22) True\n",
            "(0, 4) False\n",
            "(4, 2) True\n"
          ]
        }
      ],
      "source": [
        "import random\n",
        "\n",
        "def sample_negative_edges(G, num_neg_samples):\n",
        "  # TODO: Implement a function that returns a list of RANDOM negative edges.\n",
        "  # The number of sampled negative edges is num_neg_samples. You do not\n",
        "  # need to consider the corner case when the number of possible negative edges\n",
        "  # is less than num_neg_samples. It should be ok as long as your implementation\n",
        "  # works on the karate club network.\n",
        "  #\n",
        "  # In this implementation, self loops should not be considered as\n",
        "  # either positive or negative edge. Also, notice that\n",
        "  # the karate club network is an undirected graph; if (0, 1) is a positive\n",
        "  # edge, do you think (1, 0) can be a negative one?\n",
        "\n",
        "  # Set the random number generator seed\n",
        "  random.seed(1)\n",
        "\n",
        "  neg_edge_list = []\n",
        "\n",
        "  ############# Your code here ############\n",
        "  pos_edge_list = graph_to_edge_list(G)\n",
        "  #print(pos_edge_list)\n",
        "\n",
        "  while len(neg_edge_list) < num_neg_samples:\n",
        "      node1 = random.sample(list(nx.nodes(G)), k=1)\n",
        "      node2 = random.sample(list(G.nodes), k=1)\n",
        "      node1 = node1[0]\n",
        "      node2 = node2[0]\n",
        "\n",
        "\n",
        "      if node1 == node2:\n",
        "        continue\n",
        "\n",
        "      if (node1, node2) not in pos_edge_list and (node2,node1) not in pos_edge_list:\n",
        "        neg_edge_list.append((node1, node2))\n",
        "\n",
        "  #print(neg_edge_list)\n",
        "  ## NOTE:\n",
        "  ## Remeber to sample negative edges randomly!\n",
        "  pass\n",
        "  #########################################\n",
        "\n",
        "  return neg_edge_list\n",
        "\n",
        "def check_negative_edge(G, edge):\n",
        "  # TODO: Implement a function that returns whether a given edge\n",
        "  # is a negative edge within the graph G.\n",
        "\n",
        "  is_negative_edge = False\n",
        "\n",
        "  ############# Your code here ############\n",
        "  pos_edge_list = graph_to_edge_list(G)\n",
        "  if (edge) not in pos_edge_list:\n",
        "    is_negative_edge = True\n",
        "\n",
        "  ## NOTE:\n",
        "  ## Check the definition of a negative edge from the question.\n",
        "  pass\n",
        "  #########################################\n",
        "\n",
        "  return is_negative_edge\n",
        "\n",
        "if 'IS_GRADESCOPE_ENV' not in os.environ:\n",
        "  # Sample 78 negative edges\n",
        "  neg_edge_list = sample_negative_edges(G, len(pos_edge_list))\n",
        "\n",
        "  # Transform the negative edge list to tensor\n",
        "  neg_edge_index = edge_list_to_tensor(neg_edge_list)\n",
        "  print(\"The neg_edge_index tensor has shape {}\".format(neg_edge_index.shape))\n",
        "\n",
        "  # Which of following edges can be negative ones?\n",
        "  edge_1 = (7, 1)\n",
        "  edge_2 = (1, 33)\n",
        "  edge_3 = (33, 22)\n",
        "  edge_4 = (0, 4)\n",
        "  edge_5 = (4, 2)\n",
        "\n",
        "  for u, v in [edge_1, edge_2, edge_3, edge_4, edge_5]:\n",
        "    print ((u, v), check_negative_edge(G, (u, v)))\n"
      ]
    },
    {
      "cell_type": "markdown",
      "metadata": {
        "id": "Wk9Q-a-9qGsw"
      },
      "source": [
        "# 3) Node Embedding Learning\n",
        "\n",
        "Finally, you write your first learning algorithm on graphs: **a node embedding model**.\n"
      ]
    },
    {
      "cell_type": "markdown",
      "metadata": {
        "id": "NDBxRQcZ_dUH"
      },
      "source": [
        "## Setup"
      ]
    },
    {
      "cell_type": "code",
      "execution_count": 25,
      "metadata": {
        "colab": {
          "base_uri": "https://localhost:8080/"
        },
        "id": "Lnqn9H6s_ehX",
        "outputId": "f8c30af8-fe1b-4a53-86f6-b274c6365d87"
      },
      "outputs": [
        {
          "output_type": "stream",
          "name": "stdout",
          "text": [
            "2.6.0+cu124\n"
          ]
        }
      ],
      "source": [
        "import torch\n",
        "import torch.nn as nn\n",
        "import matplotlib.pyplot as plt\n",
        "from sklearn.decomposition import PCA\n",
        "\n",
        "print(torch.__version__)"
      ]
    },
    {
      "cell_type": "markdown",
      "metadata": {
        "id": "6gomAf8vxq0R"
      },
      "source": [
        "To write your node embedding model, you will heavily utilize the [`nn.Embedding`](https://pytorch.org/docs/stable/generated/torch.nn.Embedding.html) module in PyTorch. Let us first explore how to use `nn.Embedding`:"
      ]
    },
    {
      "cell_type": "code",
      "execution_count": 26,
      "metadata": {
        "colab": {
          "base_uri": "https://localhost:8080/"
        },
        "id": "aRiWGuLAx5yx",
        "outputId": "55575e33-df46-4abf-c09e-1ea94d280c5d"
      },
      "outputs": [
        {
          "output_type": "stream",
          "name": "stdout",
          "text": [
            "Sample embedding layer: Embedding(4, 8)\n"
          ]
        }
      ],
      "source": [
        "# Initialize an embedding layer.\n",
        "# Suppose you want to have embedding for 4 items (e.g., nodes).\n",
        "# Each item is represented by an 8 dimensional vector.\n",
        "\n",
        "emb_sample = nn.Embedding(num_embeddings=4, embedding_dim=8)\n",
        "print('Sample embedding layer: {}'.format(emb_sample))"
      ]
    },
    {
      "cell_type": "markdown",
      "metadata": {
        "id": "bS9qQfeujEVh"
      },
      "source": [
        "You can select items from the embedding matrix by using Tensor indices."
      ]
    },
    {
      "cell_type": "code",
      "execution_count": 27,
      "metadata": {
        "colab": {
          "base_uri": "https://localhost:8080/"
        },
        "id": "9AGIfP4QEDr8",
        "outputId": "75174aa2-1ddd-49f8-be91-de1627ae67f6"
      },
      "outputs": [
        {
          "output_type": "stream",
          "name": "stdout",
          "text": [
            "tensor([[-0.2675, -1.7190, -1.0451, -0.5313, -0.0767,  0.3771,  0.9548, -0.5573]],\n",
            "       grad_fn=<EmbeddingBackward0>)\n",
            "tensor([[-0.2675, -1.7190, -1.0451, -0.5313, -0.0767,  0.3771,  0.9548, -0.5573],\n",
            "        [-0.0340,  0.4053, -1.1669,  0.3332,  1.7399, -0.4390, -1.1735, -0.1636]],\n",
            "       grad_fn=<EmbeddingBackward0>)\n",
            "torch.Size([4, 8])\n",
            "tensor([[1., 1., 1., 1., 1., 1., 1., 1.],\n",
            "        [1., 1., 1., 1., 1., 1., 1., 1.]], grad_fn=<EmbeddingBackward0>)\n"
          ]
        }
      ],
      "source": [
        "# Select an embedding in emb_sample\n",
        "node_id = torch.LongTensor([1])\n",
        "print(emb_sample(node_id))\n",
        "\n",
        "# Select multiple embeddings\n",
        "node_ids = torch.LongTensor([1, 3])\n",
        "print(emb_sample(node_ids))\n",
        "\n",
        "# Get the shape of the embedding weight matrix\n",
        "shape = emb_sample.weight.data.shape\n",
        "print(shape)\n",
        "\n",
        "# Overwrite the weight to tensor with all ones\n",
        "emb_sample.weight.data = torch.ones(shape)\n",
        "\n",
        "# Let's check if the emb is indeed initialized\n",
        "node_ids = torch.LongTensor([0, 3])\n",
        "print(emb_sample(node_ids))"
      ]
    },
    {
      "cell_type": "markdown",
      "metadata": {
        "id": "8MjBuDKaKIsM"
      },
      "source": [
        "Now, it's time to create a node embedding matrix for our graph!\n",
        "- Each node in the karate club network is represented by a **16 dimensional** vector.\n",
        "- Initalize the matrix using a **uniform distribution**, in the range of $[0, 1)$. We suggest using [`torch.rand`](https://pytorch.org/docs/stable/generated/torch.rand.html)."
      ]
    },
    {
      "cell_type": "markdown",
      "metadata": {
        "id": "2DMMHhO-iA2T"
      },
      "source": [
        "## Question 7: Implement a function creating the node embedding matrix. (2.5 Points)"
      ]
    },
    {
      "cell_type": "code",
      "execution_count": 35,
      "metadata": {
        "colab": {
          "base_uri": "https://localhost:8080/"
        },
        "id": "hMszSwRPKGn1",
        "outputId": "e4700554-b4a3-4761-eb28-c9e971350e9e"
      },
      "outputs": [
        {
          "output_type": "stream",
          "name": "stdout",
          "text": [
            "Embedding: Embedding(34, 16)\n",
            "tensor([[0.2114, 0.7335, 0.1433, 0.9647, 0.2933, 0.7951, 0.5170, 0.2801, 0.8339,\n",
            "         0.1185, 0.2355, 0.5599, 0.8966, 0.2858, 0.1955, 0.1808],\n",
            "        [0.7486, 0.6546, 0.3843, 0.9820, 0.6012, 0.3710, 0.4929, 0.9915, 0.8358,\n",
            "         0.4629, 0.9902, 0.7196, 0.2338, 0.0450, 0.7906, 0.9689]],\n",
            "       grad_fn=<EmbeddingBackward0>)\n"
          ]
        }
      ],
      "source": [
        "# Please do not change / reset the random seed\n",
        "torch.manual_seed(1)\n",
        "\n",
        "def create_node_emb(num_node=34, embedding_dim=16):\n",
        "  # TODO: Implement a function that creates the node embedding matrix.\n",
        "  # Return a torch.nn.Embedding layer. You do not need to change\n",
        "  # the values of num_node and embedding_dim. The weight matrix of the returned\n",
        "  # layer should be initialized using torch.rand under uniform distribution on the interval [0, 1).\n",
        "\n",
        "  emb = None\n",
        "\n",
        "  ############# Your code here ############\n",
        "  emb = nn.Embedding(34, 16)\n",
        "  shape = emb.weight.data.shape\n",
        "  emb.weight.data = torch.rand(shape)\n",
        "  pass\n",
        "  #########################################\n",
        "\n",
        "  return emb\n",
        "\n",
        "if 'IS_GRADESCOPE_ENV' not in os.environ:\n",
        "  emb = create_node_emb()\n",
        "  node_ids = torch.LongTensor([0, 3])\n",
        "\n",
        "  # Print the embedding layer\n",
        "  print(\"Embedding: {}\".format(emb))\n",
        "\n",
        "  # An example that gets the embeddings for node 0 and 3\n",
        "  print(emb(node_ids))"
      ]
    },
    {
      "cell_type": "markdown",
      "metadata": {
        "id": "4QfoANibTzyh"
      },
      "source": [
        "## Visualize the initial node embeddings\n",
        "One good way to understand an embedding matrix, is to visualize it in a 2D space.\n",
        "Here, we have implemented an embedding visualization function for you.\n",
        "We first do PCA to reduce the dimensionality of embeddings to a 2D space.\n",
        "Then, we visualize each point, colored by the community it belongs to."
      ]
    },
    {
      "cell_type": "code",
      "execution_count": 36,
      "metadata": {
        "colab": {
          "base_uri": "https://localhost:8080/",
          "height": 522
        },
        "id": "_LCoIkarhfYD",
        "outputId": "12d30383-8216-4001-a29b-996baccb91df"
      },
      "outputs": [
        {
          "output_type": "display_data",
          "data": {
            "text/plain": [
              "<Figure size 600x600 with 1 Axes>"
            ],
            "image/png": "[encoded data removed]"
          },
          "metadata": {}
        }
      ],
      "source": [
        "def visualize_emb(emb):\n",
        "  X = emb.weight.data.numpy()\n",
        "  pca = PCA(n_components=2)\n",
        "  components = pca.fit_transform(X)\n",
        "  plt.figure(figsize=(6, 6))\n",
        "  club1_x = []\n",
        "  club1_y = []\n",
        "  club2_x = []\n",
        "  club2_y = []\n",
        "  for node in G.nodes(data=True):\n",
        "    if node[1]['club'] == 'Mr. Hi':\n",
        "      club1_x.append(components[node[0]][0])\n",
        "      club1_y.append(components[node[0]][1])\n",
        "    else:\n",
        "      club2_x.append(components[node[0]][0])\n",
        "      club2_y.append(components[node[0]][1])\n",
        "  plt.scatter(club1_x, club1_y, color=\"red\", label=\"Mr. Hi\")\n",
        "  plt.scatter(club2_x, club2_y, color=\"blue\", label=\"Officer\")\n",
        "  plt.legend()\n",
        "  plt.show()\n",
        "\n",
        "# Visualize the initial random embeddding\n",
        "if 'IS_GRADESCOPE_ENV' not in os.environ:\n",
        "  visualize_emb(emb)"
      ]
    },
    {
      "cell_type": "markdown",
      "metadata": {
        "id": "bQIyuEz9ANb2"
      },
      "source": [
        "## Question 8: Train your first embedding model by maximizing the dot product between positive edge node pairs and minimizng the dot product between negative edge node pairs in the graph. Through training see the best performance that you can get! You should experiment with changing a few of the hyper parameters to observe the effect on training. (10.0 Points)\n",
        "\n",
        "**NOTE**: There is no need to heavily hyper-parameter tune your model! We ask you to explore updating a couple of hyper-parameters primarily to explore their potential effects.\n"
      ]
    },
    {
      "cell_type": "code",
      "execution_count": 41,
      "metadata": {
        "id": "fBo5qUVQiA2V"
      },
      "outputs": [],
      "source": [
        "class EmbModel(torch.nn.Module):\n",
        "    def __init__(self, emb, sigmoid):\n",
        "\n",
        "        super(EmbModel, self).__init__()\n",
        "\n",
        "        # The node embedding matrix\n",
        "        self.emb = emb\n",
        "\n",
        "        # The sigmoid to be applied in the forward pass\n",
        "        self.sigmoid = sigmoid\n",
        "\n",
        "    def forward(self, train_edge):\n",
        "        out = None\n",
        "\n",
        "        ############# Your code here ############\n",
        "        node1 = train_edge[0]\n",
        "        node2 = train_edge[1]\n",
        "\n",
        "        emb1 = emb(node1)\n",
        "        emb2 = emb(node2)\n",
        "\n",
        "        dotproduct = torch.sum(emb1*emb2, dim=-1)\n",
        "\n",
        "        out = sigmoid(dotproduct)\n",
        "        ## Note:\n",
        "        # (1) Get the embeddings of the nodes in train_edge\n",
        "        # (2) Compute the embedding dot product for each node\n",
        "        # pair (positive and negative edges)\n",
        "        # (3) Feed the dot product result into sigmoid\n",
        "        ## (~5 lines of code)\n",
        "        pass\n",
        "        #########################################\n",
        "\n",
        "        return out"
      ]
    },
    {
      "cell_type": "code",
      "execution_count": 51,
      "metadata": {
        "colab": {
          "base_uri": "https://localhost:8080/"
        },
        "id": "RDeQTNNxqH0j",
        "outputId": "43600eb5-dfc6-430a-9e5c-44e5161023ff"
      },
      "outputs": [
        {
          "output_type": "stream",
          "name": "stdout",
          "text": [
            "tensor([[ 0,  0,  0,  0,  0,  0,  0,  0,  0,  0,  0,  0,  0,  0,  0,  0,  1,  1,\n",
            "          1,  1,  1,  1,  1,  1,  2,  2,  2,  2,  2,  2,  2,  2,  3,  3,  3,  4,\n",
            "          4,  5,  5,  5,  6,  8,  8,  8,  9, 13, 14, 14, 15, 15, 18, 18, 19, 20,\n",
            "         20, 22, 22, 23, 23, 23, 23, 23, 24, 24, 24, 25, 26, 26, 27, 28, 28, 29,\n",
            "         29, 30, 30, 31, 31, 32,  8, 16, 30, 13, 31,  0, 17,  6, 24, 27, 14, 29,\n",
            "          1,  6, 18, 21, 27, 12, 18, 32,  2, 15, 26,  5, 32, 10, 31, 30, 19, 14,\n",
            "         22, 24, 13,  3, 23, 32, 31, 26, 29, 14, 11, 16,  4,  1, 15,  7, 22, 10,\n",
            "         33, 17, 29, 31, 19, 21, 12, 32, 27, 14, 25,  2, 28, 27,  1, 20,  3,  8,\n",
            "          3, 10, 16, 13, 10,  2, 12,  6, 27, 31, 24,  1],\n",
            "        [ 1,  2,  3,  4,  5,  6,  7,  8, 10, 11, 12, 13, 17, 19, 21, 31,  2,  3,\n",
            "          7, 13, 17, 19, 21, 30,  3,  7,  8,  9, 13, 27, 28, 32,  7, 12, 13,  6,\n",
            "         10,  6, 10, 16, 16, 30, 32, 33, 33, 33, 32, 33, 32, 33, 32, 33, 33, 32,\n",
            "         33, 32, 33, 25, 27, 29, 32, 33, 25, 27, 31, 31, 29, 33, 33, 31, 33, 32,\n",
            "         33, 32, 33, 32, 33, 33,  4,  7, 24,  6,  1, 28, 14, 20, 13,  1, 22, 18,\n",
            "         26, 11,  7, 32, 32, 19, 31, 25, 30, 25, 11, 28,  6, 33,  1,  2, 25, 25,\n",
            "         29, 32, 27, 30, 12, 26, 22, 22,  1, 11,  5,  2,  5, 28, 17, 11, 18, 16,\n",
            "         10, 18, 20, 30, 24, 26, 16, 13,  1,  1,  9, 10, 32, 14, 25, 27, 19, 13,\n",
            "         19, 26,  8, 29, 32, 24, 22, 13, 12,  6, 18, 20]])\n",
            "Epoch: 0  Current Loss: 0.0035 Acc:  1.0\n",
            "Epoch: 1  Current Loss: 0.0035 Acc:  1.0\n",
            "Epoch: 2  Current Loss: 0.0035 Acc:  1.0\n",
            "Epoch: 3  Current Loss: 0.0035 Acc:  1.0\n",
            "Epoch: 4  Current Loss: 0.0035 Acc:  1.0\n",
            "Epoch: 5  Current Loss: 0.0035 Acc:  1.0\n",
            "Epoch: 6  Current Loss: 0.0035 Acc:  1.0\n",
            "Epoch: 7  Current Loss: 0.0035 Acc:  1.0\n",
            "Epoch: 8  Current Loss: 0.0035 Acc:  1.0\n",
            "Epoch: 9  Current Loss: 0.0035 Acc:  1.0\n",
            "Epoch: 10  Current Loss: 0.0035 Acc:  1.0\n",
            "Epoch: 11  Current Loss: 0.0035 Acc:  1.0\n",
            "Epoch: 12  Current Loss: 0.0035 Acc:  1.0\n",
            "Epoch: 13  Current Loss: 0.0035 Acc:  1.0\n",
            "Epoch: 14  Current Loss: 0.0035 Acc:  1.0\n",
            "Epoch: 15  Current Loss: 0.0035 Acc:  1.0\n",
            "Epoch: 16  Current Loss: 0.0035 Acc:  1.0\n",
            "Epoch: 17  Current Loss: 0.0035 Acc:  1.0\n",
            "Epoch: 18  Current Loss: 0.0035 Acc:  1.0\n",
            "Epoch: 19  Current Loss: 0.0035 Acc:  1.0\n",
            "Epoch: 20  Current Loss: 0.0035 Acc:  1.0\n",
            "Epoch: 21  Current Loss: 0.0035 Acc:  1.0\n",
            "Epoch: 22  Current Loss: 0.0035 Acc:  1.0\n",
            "Epoch: 23  Current Loss: 0.0035 Acc:  1.0\n",
            "Epoch: 24  Current Loss: 0.0035 Acc:  1.0\n",
            "Epoch: 25  Current Loss: 0.0035 Acc:  1.0\n",
            "Epoch: 26  Current Loss: 0.0035 Acc:  1.0\n",
            "Epoch: 27  Current Loss: 0.0035 Acc:  1.0\n",
            "Epoch: 28  Current Loss: 0.0035 Acc:  1.0\n",
            "Epoch: 29  Current Loss: 0.0035 Acc:  1.0\n",
            "Epoch: 30  Current Loss: 0.0035 Acc:  1.0\n",
            "Epoch: 31  Current Loss: 0.0034 Acc:  1.0\n",
            "Epoch: 32  Current Loss: 0.0034 Acc:  1.0\n",
            "Epoch: 33  Current Loss: 0.0034 Acc:  1.0\n",
            "Epoch: 34  Current Loss: 0.0034 Acc:  1.0\n",
            "Epoch: 35  Current Loss: 0.0034 Acc:  1.0\n",
            "Epoch: 36  Current Loss: 0.0034 Acc:  1.0\n",
            "Epoch: 37  Current Loss: 0.0034 Acc:  1.0\n",
            "Epoch: 38  Current Loss: 0.0034 Acc:  1.0\n",
            "Epoch: 39  Current Loss: 0.0034 Acc:  1.0\n",
            "Epoch: 40  Current Loss: 0.0034 Acc:  1.0\n",
            "Epoch: 41  Current Loss: 0.0034 Acc:  1.0\n",
            "Epoch: 42  Current Loss: 0.0034 Acc:  1.0\n",
            "Epoch: 43  Current Loss: 0.0034 Acc:  1.0\n",
            "Epoch: 44  Current Loss: 0.0034 Acc:  1.0\n",
            "Epoch: 45  Current Loss: 0.0034 Acc:  1.0\n",
            "Epoch: 46  Current Loss: 0.0034 Acc:  1.0\n",
            "Epoch: 47  Current Loss: 0.0034 Acc:  1.0\n",
            "Epoch: 48  Current Loss: 0.0034 Acc:  1.0\n",
            "Epoch: 49  Current Loss: 0.0034 Acc:  1.0\n",
            "Epoch: 50  Current Loss: 0.0034 Acc:  1.0\n",
            "Epoch: 51  Current Loss: 0.0034 Acc:  1.0\n",
            "Epoch: 52  Current Loss: 0.0034 Acc:  1.0\n",
            "Epoch: 53  Current Loss: 0.0034 Acc:  1.0\n",
            "Epoch: 54  Current Loss: 0.0034 Acc:  1.0\n",
            "Epoch: 55  Current Loss: 0.0034 Acc:  1.0\n",
            "Epoch: 56  Current Loss: 0.0034 Acc:  1.0\n",
            "Epoch: 57  Current Loss: 0.0034 Acc:  1.0\n",
            "Epoch: 58  Current Loss: 0.0034 Acc:  1.0\n",
            "Epoch: 59  Current Loss: 0.0034 Acc:  1.0\n",
            "Epoch: 60  Current Loss: 0.0034 Acc:  1.0\n",
            "Epoch: 61  Current Loss: 0.0034 Acc:  1.0\n",
            "Epoch: 62  Current Loss: 0.0034 Acc:  1.0\n",
            "Epoch: 63  Current Loss: 0.0034 Acc:  1.0\n",
            "Epoch: 64  Current Loss: 0.0033 Acc:  1.0\n",
            "Epoch: 65  Current Loss: 0.0033 Acc:  1.0\n",
            "Epoch: 66  Current Loss: 0.0033 Acc:  1.0\n",
            "Epoch: 67  Current Loss: 0.0033 Acc:  1.0\n",
            "Epoch: 68  Current Loss: 0.0033 Acc:  1.0\n",
            "Epoch: 69  Current Loss: 0.0033 Acc:  1.0\n",
            "Epoch: 70  Current Loss: 0.0033 Acc:  1.0\n",
            "Epoch: 71  Current Loss: 0.0033 Acc:  1.0\n",
            "Epoch: 72  Current Loss: 0.0033 Acc:  1.0\n",
            "Epoch: 73  Current Loss: 0.0033 Acc:  1.0\n",
            "Epoch: 74  Current Loss: 0.0033 Acc:  1.0\n",
            "Epoch: 75  Current Loss: 0.0033 Acc:  1.0\n",
            "Epoch: 76  Current Loss: 0.0033 Acc:  1.0\n",
            "Epoch: 77  Current Loss: 0.0033 Acc:  1.0\n",
            "Epoch: 78  Current Loss: 0.0033 Acc:  1.0\n",
            "Epoch: 79  Current Loss: 0.0033 Acc:  1.0\n",
            "Epoch: 80  Current Loss: 0.0033 Acc:  1.0\n",
            "Epoch: 81  Current Loss: 0.0033 Acc:  1.0\n",
            "Epoch: 82  Current Loss: 0.0033 Acc:  1.0\n",
            "Epoch: 83  Current Loss: 0.0033 Acc:  1.0\n",
            "Epoch: 84  Current Loss: 0.0033 Acc:  1.0\n",
            "Epoch: 85  Current Loss: 0.0033 Acc:  1.0\n",
            "Epoch: 86  Current Loss: 0.0033 Acc:  1.0\n",
            "Epoch: 87  Current Loss: 0.0033 Acc:  1.0\n",
            "Epoch: 88  Current Loss: 0.0033 Acc:  1.0\n",
            "Epoch: 89  Current Loss: 0.0033 Acc:  1.0\n",
            "Epoch: 90  Current Loss: 0.0033 Acc:  1.0\n",
            "Epoch: 91  Current Loss: 0.0033 Acc:  1.0\n",
            "Epoch: 92  Current Loss: 0.0033 Acc:  1.0\n",
            "Epoch: 93  Current Loss: 0.0033 Acc:  1.0\n",
            "Epoch: 94  Current Loss: 0.0033 Acc:  1.0\n",
            "Epoch: 95  Current Loss: 0.0033 Acc:  1.0\n",
            "Epoch: 96  Current Loss: 0.0033 Acc:  1.0\n",
            "Epoch: 97  Current Loss: 0.0033 Acc:  1.0\n",
            "Epoch: 98  Current Loss: 0.0032 Acc:  1.0\n",
            "Epoch: 99  Current Loss: 0.0032 Acc:  1.0\n",
            "Epoch: 100  Current Loss: 0.0032 Acc:  1.0\n",
            "Epoch: 101  Current Loss: 0.0032 Acc:  1.0\n",
            "Epoch: 102  Current Loss: 0.0032 Acc:  1.0\n",
            "Epoch: 103  Current Loss: 0.0032 Acc:  1.0\n",
            "Epoch: 104  Current Loss: 0.0032 Acc:  1.0\n",
            "Epoch: 105  Current Loss: 0.0032 Acc:  1.0\n",
            "Epoch: 106  Current Loss: 0.0032 Acc:  1.0\n",
            "Epoch: 107  Current Loss: 0.0032 Acc:  1.0\n",
            "Epoch: 108  Current Loss: 0.0032 Acc:  1.0\n",
            "Epoch: 109  Current Loss: 0.0032 Acc:  1.0\n",
            "Epoch: 110  Current Loss: 0.0032 Acc:  1.0\n",
            "Epoch: 111  Current Loss: 0.0032 Acc:  1.0\n",
            "Epoch: 112  Current Loss: 0.0032 Acc:  1.0\n",
            "Epoch: 113  Current Loss: 0.0032 Acc:  1.0\n",
            "Epoch: 114  Current Loss: 0.0032 Acc:  1.0\n",
            "Epoch: 115  Current Loss: 0.0032 Acc:  1.0\n",
            "Epoch: 116  Current Loss: 0.0032 Acc:  1.0\n",
            "Epoch: 117  Current Loss: 0.0032 Acc:  1.0\n",
            "Epoch: 118  Current Loss: 0.0032 Acc:  1.0\n",
            "Epoch: 119  Current Loss: 0.0032 Acc:  1.0\n",
            "Epoch: 120  Current Loss: 0.0032 Acc:  1.0\n",
            "Epoch: 121  Current Loss: 0.0032 Acc:  1.0\n",
            "Epoch: 122  Current Loss: 0.0032 Acc:  1.0\n",
            "Epoch: 123  Current Loss: 0.0032 Acc:  1.0\n",
            "Epoch: 124  Current Loss: 0.0032 Acc:  1.0\n",
            "Epoch: 125  Current Loss: 0.0032 Acc:  1.0\n",
            "Epoch: 126  Current Loss: 0.0032 Acc:  1.0\n",
            "Epoch: 127  Current Loss: 0.0032 Acc:  1.0\n",
            "Epoch: 128  Current Loss: 0.0032 Acc:  1.0\n",
            "Epoch: 129  Current Loss: 0.0032 Acc:  1.0\n",
            "Epoch: 130  Current Loss: 0.0032 Acc:  1.0\n",
            "Epoch: 131  Current Loss: 0.0032 Acc:  1.0\n",
            "Epoch: 132  Current Loss: 0.0032 Acc:  1.0\n",
            "Epoch: 133  Current Loss: 0.0032 Acc:  1.0\n",
            "Epoch: 134  Current Loss: 0.0032 Acc:  1.0\n",
            "Epoch: 135  Current Loss: 0.0031 Acc:  1.0\n",
            "Epoch: 136  Current Loss: 0.0031 Acc:  1.0\n",
            "Epoch: 137  Current Loss: 0.0031 Acc:  1.0\n",
            "Epoch: 138  Current Loss: 0.0031 Acc:  1.0\n",
            "Epoch: 139  Current Loss: 0.0031 Acc:  1.0\n",
            "Epoch: 140  Current Loss: 0.0031 Acc:  1.0\n",
            "Epoch: 141  Current Loss: 0.0031 Acc:  1.0\n",
            "Epoch: 142  Current Loss: 0.0031 Acc:  1.0\n",
            "Epoch: 143  Current Loss: 0.0031 Acc:  1.0\n",
            "Epoch: 144  Current Loss: 0.0031 Acc:  1.0\n",
            "Epoch: 145  Current Loss: 0.0031 Acc:  1.0\n",
            "Epoch: 146  Current Loss: 0.0031 Acc:  1.0\n",
            "Epoch: 147  Current Loss: 0.0031 Acc:  1.0\n",
            "Epoch: 148  Current Loss: 0.0031 Acc:  1.0\n",
            "Epoch: 149  Current Loss: 0.0031 Acc:  1.0\n",
            "Epoch: 150  Current Loss: 0.0031 Acc:  1.0\n",
            "Epoch: 151  Current Loss: 0.0031 Acc:  1.0\n",
            "Epoch: 152  Current Loss: 0.0031 Acc:  1.0\n",
            "Epoch: 153  Current Loss: 0.0031 Acc:  1.0\n",
            "Epoch: 154  Current Loss: 0.0031 Acc:  1.0\n",
            "Epoch: 155  Current Loss: 0.0031 Acc:  1.0\n",
            "Epoch: 156  Current Loss: 0.0031 Acc:  1.0\n",
            "Epoch: 157  Current Loss: 0.0031 Acc:  1.0\n",
            "Epoch: 158  Current Loss: 0.0031 Acc:  1.0\n",
            "Epoch: 159  Current Loss: 0.0031 Acc:  1.0\n",
            "Epoch: 160  Current Loss: 0.0031 Acc:  1.0\n",
            "Epoch: 161  Current Loss: 0.0031 Acc:  1.0\n",
            "Epoch: 162  Current Loss: 0.0031 Acc:  1.0\n",
            "Epoch: 163  Current Loss: 0.0031 Acc:  1.0\n",
            "Epoch: 164  Current Loss: 0.0031 Acc:  1.0\n",
            "Epoch: 165  Current Loss: 0.0031 Acc:  1.0\n",
            "Epoch: 166  Current Loss: 0.0031 Acc:  1.0\n",
            "Epoch: 167  Current Loss: 0.0031 Acc:  1.0\n",
            "Epoch: 168  Current Loss: 0.0031 Acc:  1.0\n",
            "Epoch: 169  Current Loss: 0.0031 Acc:  1.0\n",
            "Epoch: 170  Current Loss: 0.0031 Acc:  1.0\n",
            "Epoch: 171  Current Loss: 0.0031 Acc:  1.0\n",
            "Epoch: 172  Current Loss: 0.0031 Acc:  1.0\n",
            "Epoch: 173  Current Loss: 0.003 Acc:  1.0\n",
            "Epoch: 174  Current Loss: 0.003 Acc:  1.0\n",
            "Epoch: 175  Current Loss: 0.003 Acc:  1.0\n",
            "Epoch: 176  Current Loss: 0.003 Acc:  1.0\n",
            "Epoch: 177  Current Loss: 0.003 Acc:  1.0\n",
            "Epoch: 178  Current Loss: 0.003 Acc:  1.0\n",
            "Epoch: 179  Current Loss: 0.003 Acc:  1.0\n",
            "Epoch: 180  Current Loss: 0.003 Acc:  1.0\n",
            "Epoch: 181  Current Loss: 0.003 Acc:  1.0\n",
            "Epoch: 182  Current Loss: 0.003 Acc:  1.0\n",
            "Epoch: 183  Current Loss: 0.003 Acc:  1.0\n",
            "Epoch: 184  Current Loss: 0.003 Acc:  1.0\n",
            "Epoch: 185  Current Loss: 0.003 Acc:  1.0\n",
            "Epoch: 186  Current Loss: 0.003 Acc:  1.0\n",
            "Epoch: 187  Current Loss: 0.003 Acc:  1.0\n",
            "Epoch: 188  Current Loss: 0.003 Acc:  1.0\n",
            "Epoch: 189  Current Loss: 0.003 Acc:  1.0\n",
            "Epoch: 190  Current Loss: 0.003 Acc:  1.0\n",
            "Epoch: 191  Current Loss: 0.003 Acc:  1.0\n",
            "Epoch: 192  Current Loss: 0.003 Acc:  1.0\n",
            "Epoch: 193  Current Loss: 0.003 Acc:  1.0\n",
            "Epoch: 194  Current Loss: 0.003 Acc:  1.0\n",
            "Epoch: 195  Current Loss: 0.003 Acc:  1.0\n",
            "Epoch: 196  Current Loss: 0.003 Acc:  1.0\n",
            "Epoch: 197  Current Loss: 0.003 Acc:  1.0\n",
            "Epoch: 198  Current Loss: 0.003 Acc:  1.0\n",
            "Epoch: 199  Current Loss: 0.003 Acc:  1.0\n",
            "Epoch: 200  Current Loss: 0.003 Acc:  1.0\n",
            "Epoch: 201  Current Loss: 0.003 Acc:  1.0\n",
            "Epoch: 202  Current Loss: 0.003 Acc:  1.0\n",
            "Epoch: 203  Current Loss: 0.003 Acc:  1.0\n",
            "Epoch: 204  Current Loss: 0.003 Acc:  1.0\n",
            "Epoch: 205  Current Loss: 0.003 Acc:  1.0\n",
            "Epoch: 206  Current Loss: 0.003 Acc:  1.0\n",
            "Epoch: 207  Current Loss: 0.003 Acc:  1.0\n",
            "Epoch: 208  Current Loss: 0.003 Acc:  1.0\n",
            "Epoch: 209  Current Loss: 0.003 Acc:  1.0\n",
            "Epoch: 210  Current Loss: 0.003 Acc:  1.0\n",
            "Epoch: 211  Current Loss: 0.003 Acc:  1.0\n",
            "Epoch: 212  Current Loss: 0.003 Acc:  1.0\n",
            "Epoch: 213  Current Loss: 0.003 Acc:  1.0\n",
            "Epoch: 214  Current Loss: 0.0029 Acc:  1.0\n",
            "Epoch: 215  Current Loss: 0.0029 Acc:  1.0\n",
            "Epoch: 216  Current Loss: 0.0029 Acc:  1.0\n",
            "Epoch: 217  Current Loss: 0.0029 Acc:  1.0\n",
            "Epoch: 218  Current Loss: 0.0029 Acc:  1.0\n",
            "Epoch: 219  Current Loss: 0.0029 Acc:  1.0\n",
            "Epoch: 220  Current Loss: 0.0029 Acc:  1.0\n",
            "Epoch: 221  Current Loss: 0.0029 Acc:  1.0\n",
            "Epoch: 222  Current Loss: 0.0029 Acc:  1.0\n",
            "Epoch: 223  Current Loss: 0.0029 Acc:  1.0\n",
            "Epoch: 224  Current Loss: 0.0029 Acc:  1.0\n",
            "Epoch: 225  Current Loss: 0.0029 Acc:  1.0\n",
            "Epoch: 226  Current Loss: 0.0029 Acc:  1.0\n",
            "Epoch: 227  Current Loss: 0.0029 Acc:  1.0\n",
            "Epoch: 228  Current Loss: 0.0029 Acc:  1.0\n",
            "Epoch: 229  Current Loss: 0.0029 Acc:  1.0\n",
            "Epoch: 230  Current Loss: 0.0029 Acc:  1.0\n",
            "Epoch: 231  Current Loss: 0.0029 Acc:  1.0\n",
            "Epoch: 232  Current Loss: 0.0029 Acc:  1.0\n",
            "Epoch: 233  Current Loss: 0.0029 Acc:  1.0\n",
            "Epoch: 234  Current Loss: 0.0029 Acc:  1.0\n",
            "Epoch: 235  Current Loss: 0.0029 Acc:  1.0\n",
            "Epoch: 236  Current Loss: 0.0029 Acc:  1.0\n",
            "Epoch: 237  Current Loss: 0.0029 Acc:  1.0\n",
            "Epoch: 238  Current Loss: 0.0029 Acc:  1.0\n",
            "Epoch: 239  Current Loss: 0.0029 Acc:  1.0\n",
            "Epoch: 240  Current Loss: 0.0029 Acc:  1.0\n",
            "Epoch: 241  Current Loss: 0.0029 Acc:  1.0\n",
            "Epoch: 242  Current Loss: 0.0029 Acc:  1.0\n",
            "Epoch: 243  Current Loss: 0.0029 Acc:  1.0\n",
            "Epoch: 244  Current Loss: 0.0029 Acc:  1.0\n",
            "Epoch: 245  Current Loss: 0.0029 Acc:  1.0\n",
            "Epoch: 246  Current Loss: 0.0029 Acc:  1.0\n",
            "Epoch: 247  Current Loss: 0.0029 Acc:  1.0\n",
            "Epoch: 248  Current Loss: 0.0029 Acc:  1.0\n",
            "Epoch: 249  Current Loss: 0.0029 Acc:  1.0\n",
            "Epoch: 250  Current Loss: 0.0029 Acc:  1.0\n",
            "Epoch: 251  Current Loss: 0.0029 Acc:  1.0\n",
            "Epoch: 252  Current Loss: 0.0029 Acc:  1.0\n",
            "Epoch: 253  Current Loss: 0.0029 Acc:  1.0\n",
            "Epoch: 254  Current Loss: 0.0029 Acc:  1.0\n",
            "Epoch: 255  Current Loss: 0.0029 Acc:  1.0\n",
            "Epoch: 256  Current Loss: 0.0029 Acc:  1.0\n",
            "Epoch: 257  Current Loss: 0.0028 Acc:  1.0\n",
            "Epoch: 258  Current Loss: 0.0028 Acc:  1.0\n",
            "Epoch: 259  Current Loss: 0.0028 Acc:  1.0\n",
            "Epoch: 260  Current Loss: 0.0028 Acc:  1.0\n",
            "Epoch: 261  Current Loss: 0.0028 Acc:  1.0\n",
            "Epoch: 262  Current Loss: 0.0028 Acc:  1.0\n",
            "Epoch: 263  Current Loss: 0.0028 Acc:  1.0\n",
            "Epoch: 264  Current Loss: 0.0028 Acc:  1.0\n",
            "Epoch: 265  Current Loss: 0.0028 Acc:  1.0\n",
            "Epoch: 266  Current Loss: 0.0028 Acc:  1.0\n",
            "Epoch: 267  Current Loss: 0.0028 Acc:  1.0\n",
            "Epoch: 268  Current Loss: 0.0028 Acc:  1.0\n",
            "Epoch: 269  Current Loss: 0.0028 Acc:  1.0\n",
            "Epoch: 270  Current Loss: 0.0028 Acc:  1.0\n",
            "Epoch: 271  Current Loss: 0.0028 Acc:  1.0\n",
            "Epoch: 272  Current Loss: 0.0028 Acc:  1.0\n",
            "Epoch: 273  Current Loss: 0.0028 Acc:  1.0\n",
            "Epoch: 274  Current Loss: 0.0028 Acc:  1.0\n",
            "Epoch: 275  Current Loss: 0.0028 Acc:  1.0\n",
            "Epoch: 276  Current Loss: 0.0028 Acc:  1.0\n",
            "Epoch: 277  Current Loss: 0.0028 Acc:  1.0\n",
            "Epoch: 278  Current Loss: 0.0028 Acc:  1.0\n",
            "Epoch: 279  Current Loss: 0.0028 Acc:  1.0\n",
            "Epoch: 280  Current Loss: 0.0028 Acc:  1.0\n",
            "Epoch: 281  Current Loss: 0.0028 Acc:  1.0\n",
            "Epoch: 282  Current Loss: 0.0028 Acc:  1.0\n",
            "Epoch: 283  Current Loss: 0.0028 Acc:  1.0\n",
            "Epoch: 284  Current Loss: 0.0028 Acc:  1.0\n",
            "Epoch: 285  Current Loss: 0.0028 Acc:  1.0\n",
            "Epoch: 286  Current Loss: 0.0028 Acc:  1.0\n",
            "Epoch: 287  Current Loss: 0.0028 Acc:  1.0\n",
            "Epoch: 288  Current Loss: 0.0028 Acc:  1.0\n",
            "Epoch: 289  Current Loss: 0.0028 Acc:  1.0\n",
            "Epoch: 290  Current Loss: 0.0028 Acc:  1.0\n",
            "Epoch: 291  Current Loss: 0.0028 Acc:  1.0\n",
            "Epoch: 292  Current Loss: 0.0028 Acc:  1.0\n",
            "Epoch: 293  Current Loss: 0.0028 Acc:  1.0\n",
            "Epoch: 294  Current Loss: 0.0028 Acc:  1.0\n",
            "Epoch: 295  Current Loss: 0.0028 Acc:  1.0\n",
            "Epoch: 296  Current Loss: 0.0028 Acc:  1.0\n",
            "Epoch: 297  Current Loss: 0.0028 Acc:  1.0\n",
            "Epoch: 298  Current Loss: 0.0028 Acc:  1.0\n",
            "Epoch: 299  Current Loss: 0.0028 Acc:  1.0\n",
            "Epoch: 300  Current Loss: 0.0028 Acc:  1.0\n",
            "Epoch: 301  Current Loss: 0.0028 Acc:  1.0\n",
            "Epoch: 302  Current Loss: 0.0028 Acc:  1.0\n",
            "Epoch: 303  Current Loss: 0.0028 Acc:  1.0\n",
            "Epoch: 304  Current Loss: 0.0027 Acc:  1.0\n",
            "Epoch: 305  Current Loss: 0.0027 Acc:  1.0\n",
            "Epoch: 306  Current Loss: 0.0027 Acc:  1.0\n",
            "Epoch: 307  Current Loss: 0.0027 Acc:  1.0\n",
            "Epoch: 308  Current Loss: 0.0027 Acc:  1.0\n",
            "Epoch: 309  Current Loss: 0.0027 Acc:  1.0\n",
            "Epoch: 310  Current Loss: 0.0027 Acc:  1.0\n",
            "Epoch: 311  Current Loss: 0.0027 Acc:  1.0\n",
            "Epoch: 312  Current Loss: 0.0027 Acc:  1.0\n",
            "Epoch: 313  Current Loss: 0.0027 Acc:  1.0\n",
            "Epoch: 314  Current Loss: 0.0027 Acc:  1.0\n",
            "Epoch: 315  Current Loss: 0.0027 Acc:  1.0\n",
            "Epoch: 316  Current Loss: 0.0027 Acc:  1.0\n",
            "Epoch: 317  Current Loss: 0.0027 Acc:  1.0\n",
            "Epoch: 318  Current Loss: 0.0027 Acc:  1.0\n",
            "Epoch: 319  Current Loss: 0.0027 Acc:  1.0\n",
            "Epoch: 320  Current Loss: 0.0027 Acc:  1.0\n",
            "Epoch: 321  Current Loss: 0.0027 Acc:  1.0\n",
            "Epoch: 322  Current Loss: 0.0027 Acc:  1.0\n",
            "Epoch: 323  Current Loss: 0.0027 Acc:  1.0\n",
            "Epoch: 324  Current Loss: 0.0027 Acc:  1.0\n",
            "Epoch: 325  Current Loss: 0.0027 Acc:  1.0\n",
            "Epoch: 326  Current Loss: 0.0027 Acc:  1.0\n",
            "Epoch: 327  Current Loss: 0.0027 Acc:  1.0\n",
            "Epoch: 328  Current Loss: 0.0027 Acc:  1.0\n",
            "Epoch: 329  Current Loss: 0.0027 Acc:  1.0\n",
            "Epoch: 330  Current Loss: 0.0027 Acc:  1.0\n",
            "Epoch: 331  Current Loss: 0.0027 Acc:  1.0\n",
            "Epoch: 332  Current Loss: 0.0027 Acc:  1.0\n",
            "Epoch: 333  Current Loss: 0.0027 Acc:  1.0\n",
            "Epoch: 334  Current Loss: 0.0027 Acc:  1.0\n",
            "Epoch: 335  Current Loss: 0.0027 Acc:  1.0\n",
            "Epoch: 336  Current Loss: 0.0027 Acc:  1.0\n",
            "Epoch: 337  Current Loss: 0.0027 Acc:  1.0\n",
            "Epoch: 338  Current Loss: 0.0027 Acc:  1.0\n",
            "Epoch: 339  Current Loss: 0.0027 Acc:  1.0\n",
            "Epoch: 340  Current Loss: 0.0027 Acc:  1.0\n",
            "Epoch: 341  Current Loss: 0.0027 Acc:  1.0\n",
            "Epoch: 342  Current Loss: 0.0027 Acc:  1.0\n",
            "Epoch: 343  Current Loss: 0.0027 Acc:  1.0\n",
            "Epoch: 344  Current Loss: 0.0027 Acc:  1.0\n",
            "Epoch: 345  Current Loss: 0.0027 Acc:  1.0\n",
            "Epoch: 346  Current Loss: 0.0027 Acc:  1.0\n",
            "Epoch: 347  Current Loss: 0.0027 Acc:  1.0\n",
            "Epoch: 348  Current Loss: 0.0027 Acc:  1.0\n",
            "Epoch: 349  Current Loss: 0.0027 Acc:  1.0\n",
            "Epoch: 350  Current Loss: 0.0027 Acc:  1.0\n",
            "Epoch: 351  Current Loss: 0.0027 Acc:  1.0\n",
            "Epoch: 352  Current Loss: 0.0027 Acc:  1.0\n",
            "Epoch: 353  Current Loss: 0.0026 Acc:  1.0\n",
            "Epoch: 354  Current Loss: 0.0026 Acc:  1.0\n",
            "Epoch: 355  Current Loss: 0.0026 Acc:  1.0\n",
            "Epoch: 356  Current Loss: 0.0026 Acc:  1.0\n",
            "Epoch: 357  Current Loss: 0.0026 Acc:  1.0\n",
            "Epoch: 358  Current Loss: 0.0026 Acc:  1.0\n",
            "Epoch: 359  Current Loss: 0.0026 Acc:  1.0\n",
            "Epoch: 360  Current Loss: 0.0026 Acc:  1.0\n",
            "Epoch: 361  Current Loss: 0.0026 Acc:  1.0\n",
            "Epoch: 362  Current Loss: 0.0026 Acc:  1.0\n",
            "Epoch: 363  Current Loss: 0.0026 Acc:  1.0\n",
            "Epoch: 364  Current Loss: 0.0026 Acc:  1.0\n",
            "Epoch: 365  Current Loss: 0.0026 Acc:  1.0\n",
            "Epoch: 366  Current Loss: 0.0026 Acc:  1.0\n",
            "Epoch: 367  Current Loss: 0.0026 Acc:  1.0\n",
            "Epoch: 368  Current Loss: 0.0026 Acc:  1.0\n",
            "Epoch: 369  Current Loss: 0.0026 Acc:  1.0\n",
            "Epoch: 370  Current Loss: 0.0026 Acc:  1.0\n",
            "Epoch: 371  Current Loss: 0.0026 Acc:  1.0\n",
            "Epoch: 372  Current Loss: 0.0026 Acc:  1.0\n",
            "Epoch: 373  Current Loss: 0.0026 Acc:  1.0\n",
            "Epoch: 374  Current Loss: 0.0026 Acc:  1.0\n",
            "Epoch: 375  Current Loss: 0.0026 Acc:  1.0\n",
            "Epoch: 376  Current Loss: 0.0026 Acc:  1.0\n",
            "Epoch: 377  Current Loss: 0.0026 Acc:  1.0\n",
            "Epoch: 378  Current Loss: 0.0026 Acc:  1.0\n",
            "Epoch: 379  Current Loss: 0.0026 Acc:  1.0\n",
            "Epoch: 380  Current Loss: 0.0026 Acc:  1.0\n",
            "Epoch: 381  Current Loss: 0.0026 Acc:  1.0\n",
            "Epoch: 382  Current Loss: 0.0026 Acc:  1.0\n",
            "Epoch: 383  Current Loss: 0.0026 Acc:  1.0\n",
            "Epoch: 384  Current Loss: 0.0026 Acc:  1.0\n",
            "Epoch: 385  Current Loss: 0.0026 Acc:  1.0\n",
            "Epoch: 386  Current Loss: 0.0026 Acc:  1.0\n",
            "Epoch: 387  Current Loss: 0.0026 Acc:  1.0\n",
            "Epoch: 388  Current Loss: 0.0026 Acc:  1.0\n",
            "Epoch: 389  Current Loss: 0.0026 Acc:  1.0\n",
            "Epoch: 390  Current Loss: 0.0026 Acc:  1.0\n",
            "Epoch: 391  Current Loss: 0.0026 Acc:  1.0\n",
            "Epoch: 392  Current Loss: 0.0026 Acc:  1.0\n",
            "Epoch: 393  Current Loss: 0.0026 Acc:  1.0\n",
            "Epoch: 394  Current Loss: 0.0026 Acc:  1.0\n",
            "Epoch: 395  Current Loss: 0.0026 Acc:  1.0\n",
            "Epoch: 396  Current Loss: 0.0026 Acc:  1.0\n",
            "Epoch: 397  Current Loss: 0.0026 Acc:  1.0\n",
            "Epoch: 398  Current Loss: 0.0026 Acc:  1.0\n",
            "Epoch: 399  Current Loss: 0.0026 Acc:  1.0\n",
            "Epoch: 400  Current Loss: 0.0026 Acc:  1.0\n",
            "Epoch: 401  Current Loss: 0.0026 Acc:  1.0\n",
            "Epoch: 402  Current Loss: 0.0026 Acc:  1.0\n",
            "Epoch: 403  Current Loss: 0.0026 Acc:  1.0\n",
            "Epoch: 404  Current Loss: 0.0026 Acc:  1.0\n",
            "Epoch: 405  Current Loss: 0.0026 Acc:  1.0\n",
            "Epoch: 406  Current Loss: 0.0025 Acc:  1.0\n",
            "Epoch: 407  Current Loss: 0.0025 Acc:  1.0\n",
            "Epoch: 408  Current Loss: 0.0025 Acc:  1.0\n",
            "Epoch: 409  Current Loss: 0.0025 Acc:  1.0\n",
            "Epoch: 410  Current Loss: 0.0025 Acc:  1.0\n",
            "Epoch: 411  Current Loss: 0.0025 Acc:  1.0\n",
            "Epoch: 412  Current Loss: 0.0025 Acc:  1.0\n",
            "Epoch: 413  Current Loss: 0.0025 Acc:  1.0\n",
            "Epoch: 414  Current Loss: 0.0025 Acc:  1.0\n",
            "Epoch: 415  Current Loss: 0.0025 Acc:  1.0\n",
            "Epoch: 416  Current Loss: 0.0025 Acc:  1.0\n",
            "Epoch: 417  Current Loss: 0.0025 Acc:  1.0\n",
            "Epoch: 418  Current Loss: 0.0025 Acc:  1.0\n",
            "Epoch: 419  Current Loss: 0.0025 Acc:  1.0\n",
            "Epoch: 420  Current Loss: 0.0025 Acc:  1.0\n",
            "Epoch: 421  Current Loss: 0.0025 Acc:  1.0\n",
            "Epoch: 422  Current Loss: 0.0025 Acc:  1.0\n",
            "Epoch: 423  Current Loss: 0.0025 Acc:  1.0\n",
            "Epoch: 424  Current Loss: 0.0025 Acc:  1.0\n",
            "Epoch: 425  Current Loss: 0.0025 Acc:  1.0\n",
            "Epoch: 426  Current Loss: 0.0025 Acc:  1.0\n",
            "Epoch: 427  Current Loss: 0.0025 Acc:  1.0\n",
            "Epoch: 428  Current Loss: 0.0025 Acc:  1.0\n",
            "Epoch: 429  Current Loss: 0.0025 Acc:  1.0\n",
            "Epoch: 430  Current Loss: 0.0025 Acc:  1.0\n",
            "Epoch: 431  Current Loss: 0.0025 Acc:  1.0\n",
            "Epoch: 432  Current Loss: 0.0025 Acc:  1.0\n",
            "Epoch: 433  Current Loss: 0.0025 Acc:  1.0\n",
            "Epoch: 434  Current Loss: 0.0025 Acc:  1.0\n",
            "Epoch: 435  Current Loss: 0.0025 Acc:  1.0\n",
            "Epoch: 436  Current Loss: 0.0025 Acc:  1.0\n",
            "Epoch: 437  Current Loss: 0.0025 Acc:  1.0\n",
            "Epoch: 438  Current Loss: 0.0025 Acc:  1.0\n",
            "Epoch: 439  Current Loss: 0.0025 Acc:  1.0\n",
            "Epoch: 440  Current Loss: 0.0025 Acc:  1.0\n",
            "Epoch: 441  Current Loss: 0.0025 Acc:  1.0\n",
            "Epoch: 442  Current Loss: 0.0025 Acc:  1.0\n",
            "Epoch: 443  Current Loss: 0.0025 Acc:  1.0\n",
            "Epoch: 444  Current Loss: 0.0025 Acc:  1.0\n",
            "Epoch: 445  Current Loss: 0.0025 Acc:  1.0\n",
            "Epoch: 446  Current Loss: 0.0025 Acc:  1.0\n",
            "Epoch: 447  Current Loss: 0.0025 Acc:  1.0\n",
            "Epoch: 448  Current Loss: 0.0025 Acc:  1.0\n",
            "Epoch: 449  Current Loss: 0.0025 Acc:  1.0\n",
            "Epoch: 450  Current Loss: 0.0025 Acc:  1.0\n",
            "Epoch: 451  Current Loss: 0.0025 Acc:  1.0\n",
            "Epoch: 452  Current Loss: 0.0025 Acc:  1.0\n",
            "Epoch: 453  Current Loss: 0.0025 Acc:  1.0\n",
            "Epoch: 454  Current Loss: 0.0025 Acc:  1.0\n",
            "Epoch: 455  Current Loss: 0.0025 Acc:  1.0\n",
            "Epoch: 456  Current Loss: 0.0025 Acc:  1.0\n",
            "Epoch: 457  Current Loss: 0.0025 Acc:  1.0\n",
            "Epoch: 458  Current Loss: 0.0025 Acc:  1.0\n",
            "Epoch: 459  Current Loss: 0.0025 Acc:  1.0\n",
            "Epoch: 460  Current Loss: 0.0025 Acc:  1.0\n",
            "Epoch: 461  Current Loss: 0.0025 Acc:  1.0\n",
            "Epoch: 462  Current Loss: 0.0025 Acc:  1.0\n",
            "Epoch: 463  Current Loss: 0.0024 Acc:  1.0\n",
            "Epoch: 464  Current Loss: 0.0024 Acc:  1.0\n",
            "Epoch: 465  Current Loss: 0.0024 Acc:  1.0\n",
            "Epoch: 466  Current Loss: 0.0024 Acc:  1.0\n",
            "Epoch: 467  Current Loss: 0.0024 Acc:  1.0\n",
            "Epoch: 468  Current Loss: 0.0024 Acc:  1.0\n",
            "Epoch: 469  Current Loss: 0.0024 Acc:  1.0\n",
            "Epoch: 470  Current Loss: 0.0024 Acc:  1.0\n",
            "Epoch: 471  Current Loss: 0.0024 Acc:  1.0\n",
            "Epoch: 472  Current Loss: 0.0024 Acc:  1.0\n",
            "Epoch: 473  Current Loss: 0.0024 Acc:  1.0\n",
            "Epoch: 474  Current Loss: 0.0024 Acc:  1.0\n",
            "Epoch: 475  Current Loss: 0.0024 Acc:  1.0\n",
            "Epoch: 476  Current Loss: 0.0024 Acc:  1.0\n",
            "Epoch: 477  Current Loss: 0.0024 Acc:  1.0\n",
            "Epoch: 478  Current Loss: 0.0024 Acc:  1.0\n",
            "Epoch: 479  Current Loss: 0.0024 Acc:  1.0\n",
            "Epoch: 480  Current Loss: 0.0024 Acc:  1.0\n",
            "Epoch: 481  Current Loss: 0.0024 Acc:  1.0\n",
            "Epoch: 482  Current Loss: 0.0024 Acc:  1.0\n",
            "Epoch: 483  Current Loss: 0.0024 Acc:  1.0\n",
            "Epoch: 484  Current Loss: 0.0024 Acc:  1.0\n",
            "Epoch: 485  Current Loss: 0.0024 Acc:  1.0\n",
            "Epoch: 486  Current Loss: 0.0024 Acc:  1.0\n",
            "Epoch: 487  Current Loss: 0.0024 Acc:  1.0\n",
            "Epoch: 488  Current Loss: 0.0024 Acc:  1.0\n",
            "Epoch: 489  Current Loss: 0.0024 Acc:  1.0\n",
            "Epoch: 490  Current Loss: 0.0024 Acc:  1.0\n",
            "Epoch: 491  Current Loss: 0.0024 Acc:  1.0\n",
            "Epoch: 492  Current Loss: 0.0024 Acc:  1.0\n",
            "Epoch: 493  Current Loss: 0.0024 Acc:  1.0\n",
            "Epoch: 494  Current Loss: 0.0024 Acc:  1.0\n",
            "Epoch: 495  Current Loss: 0.0024 Acc:  1.0\n",
            "Epoch: 496  Current Loss: 0.0024 Acc:  1.0\n",
            "Epoch: 497  Current Loss: 0.0024 Acc:  1.0\n",
            "Epoch: 498  Current Loss: 0.0024 Acc:  1.0\n",
            "Epoch: 499  Current Loss: 0.0024 Acc:  1.0\n"
          ]
        }
      ],
      "source": [
        "from torch.optim import SGD\n",
        "\n",
        "def accuracy(pred, label):\n",
        "  # TODO: Implement the accuracy function. This function takes as input a\n",
        "  # pred tensor (the resulting tensor after sigmoid) and a label\n",
        "  # tensor (torch.LongTensor). Predicted values greater than 0.5 are\n",
        "  # classified as label 1, else they are classified as label 0.\n",
        "  # The returned accuracy should be rounded to 4 decimal places.\n",
        "  # For example, accuracy 0.82956 will be rounded to 0.8296.\n",
        "\n",
        "  accu = 0.0\n",
        "\n",
        "  ############# Your code here ############\n",
        "  accu = torch.sum(torch.round(pred)==label )/ pred.shape[0]\n",
        "  pass\n",
        "  #########################################\n",
        "\n",
        "  return accu\n",
        "\n",
        "def train(model, loss_fn, train_label, train_edge):\n",
        "  # TODO: Train the embedding layer here. You need to implement:\n",
        "  # (1) Run the model with the proper input\n",
        "  # (2) Feed the model's output into the loss_fn\n",
        "  # (3) Print both loss and accuracy of each epoch\n",
        "  # (as a sanity check, the loss should decrease during training)\n",
        "  #\n",
        "  # During testing feel free to change the number of epochs and learning rate.\n",
        "\n",
        "  epochs = 500\n",
        "  learning_rate = 0.1\n",
        "\n",
        "  optimizer = SGD(emb.parameters(), lr=learning_rate, momentum=0.9)\n",
        "\n",
        "  for i in range(epochs):\n",
        "\n",
        "    ############# Your code here ###########\n",
        "    optimizer.zero_grad()\n",
        "    pred = model.forward(train_edge)\n",
        "    loss = loss_fn(pred, train_label)\n",
        "    print(\"Epoch:\", i, \" Current Loss:\", round(loss.item(),4), \"Acc: \", accuracy(pred, train_label).item())\n",
        "\n",
        "    loss.backward()\n",
        "    optimizer.step()\n",
        "\n",
        "\n",
        "    ## Note: See the training steps above!\n",
        "    pass\n",
        "    #########################################\n",
        "\n",
        "if 'IS_GRADESCOPE_ENV' not in os.environ:\n",
        "  loss_fn = nn.BCELoss()\n",
        "  sigmoid = nn.Sigmoid()\n",
        "\n",
        "  # Generate the positive and negative labels\n",
        "  pos_label = torch.ones(pos_edge_index.shape[1], )\n",
        "  neg_label = torch.zeros(neg_edge_index.shape[1], )\n",
        "\n",
        "  # Concat positive and negative labels into one tensor\n",
        "  train_label = torch.cat([pos_label, neg_label], dim=0)\n",
        "\n",
        "  # Concat positive and negative edges into one tensor\n",
        "  # Since the network is very small, we do not split the edges into val/test sets\n",
        "  train_edge = torch.cat([pos_edge_index, neg_edge_index], dim=1)\n",
        "  print (train_edge)\n",
        "\n",
        "  model = EmbModel(emb, sigmoid)\n",
        "\n",
        "  train(model, loss_fn, train_label, train_edge)"
      ]
    },
    {
      "cell_type": "markdown",
      "metadata": {
        "id": "62LuURV24Jjk"
      },
      "source": [
        "## **Saving Your Model Predictions**!\n",
        "After you have successfully trained your embedding model, run the cell below to save your model's predictions on the training data. The function below will generate and save a csv file called *model_predictions.csv* to the local Colab files folder. This folder can be accessed by clicking the *Folder* icon on the left panel underneath the *Table of contents*, *Find and replace*, and *Code snippets* icons.\n",
        "\n",
        "When submitting this Colab you will have to download your model's predictions and submit them along with your Colab ipython notebook."
      ]
    },
    {
      "cell_type": "code",
      "execution_count": 45,
      "metadata": {
        "id": "7Jjz5J1W4GLj"
      },
      "outputs": [],
      "source": [
        "import pandas as pd\n",
        "import numpy as np\n",
        "\n",
        "def save_model_results(emb_model, train_label, train_edge):\n",
        "  \"\"\"\n",
        "    Helper function to save the model predictions and data\n",
        "    labels to a csv file for submission.\n",
        "  \"\"\"\n",
        "\n",
        "  # Generate model predictions\n",
        "  pred = emb_model(train_edge).detach()\n",
        "\n",
        "  # Create a pandas datafram with columns\n",
        "  # model_pred | binary_pred | label\n",
        "  data = {}\n",
        "  data['model_pred'] = pred\n",
        "  data['binary_pred'] = np.where(pred > 0.5, 1.0, 0.0)\n",
        "  data['label'] = train_label.detach()\n",
        "\n",
        "  df = pd.DataFrame(data=data)\n",
        "  # Save to csv\n",
        "  df.to_csv('model_predictions.csv', sep=',', index=False)\n",
        "\n",
        "if 'IS_GRADESCOPE_ENV' not in os.environ:\n",
        "  save_model_results(model, train_label, train_edge)"
      ]
    },
    {
      "cell_type": "markdown",
      "metadata": {
        "id": "WX2PSXnTDiNi"
      },
      "source": [
        "## Visualize the final node embeddings\n",
        "Now you can visually compare our embeddings with the embeddings before training. After training, you should oberserve that the two classes are more evidently separated. Note that since we are reducing the dimensionality of our embeddings from **16 --> 2** you may not see perfect linear separation.\n",
        "\n",
        "\n",
        "Overall, visualizing model / node embeddings is a great sanity check for your implementation, in addition to tracking the model's accuracy."
      ]
    },
    {
      "cell_type": "code",
      "execution_count": 46,
      "metadata": {
        "colab": {
          "base_uri": "https://localhost:8080/",
          "height": 522
        },
        "id": "MtNgl4VhYKow",
        "outputId": "ca901072-844e-4b98-9f2c-a0bb92c2cccf"
      },
      "outputs": [
        {
          "output_type": "display_data",
          "data": {
            "text/plain": [
              "<Figure size 600x600 with 1 Axes>"
            ],
            "image/png": "[encoded data removed]"
          },
          "metadata": {}
        }
      ],
      "source": [
        "# Visualize the final learned embedding\n",
        "if 'IS_GRADESCOPE_ENV' not in os.environ:\n",
        "  visualize_emb(emb)"
      ]
    },
    {
      "cell_type": "markdown",
      "metadata": {
        "id": "FTNyrAoSVeq9"
      },
      "source": [
        "# Submission"
      ]
    },
    {
      "cell_type": "markdown",
      "metadata": {
        "id": "E_E7J_GkVhY_"
      },
      "source": [
        "You will need to submit two files on Gradescope to complete this notebook.\n",
        "\n",
        "1.   Your completed *XCS224W_Colab1.ipynb*. From the \"File\" menu select \"Download .ipynb\" to save a local copy of your completed Colab.\n",
        "2.   Your model predictions. Open up the local Colab file folder (by selecting the Folder icon on the left panel) and download *model_predictions.csv*\n",
        "\n",
        "For submitting your work, zip the files downloaded in steps 1 and 2 above and submit to gradescope. **NOTE:** DO NOT rename any of the downloaded files. The file names should be *XCS224W_Colab1.ipynb* and *model_predictions.csv*.\n",
        "\n"
      ]
    }
  ],
  "metadata": {
    "accelerator": "GPU",
    "colab": {
      "machine_shape": "hm",
      "provenance": [],
      "include_colab_link": true
    },
    "gpuClass": "standard",
    "kernelspec": {
      "display_name": "Python 3.7.3 64-bit",
      "language": "python",
      "name": "python3"
    },
    "language_info": {
      "codemirror_mode": {
        "name": "ipython",
        "version": 3
      },
      "file_extension": ".py",
      "mimetype": "text/x-python",
      "name": "python",
      "nbconvert_exporter": "python",
      "pygments_lexer": "ipython3",
      "version": "3.10.13"
    },
    "vscode": {
      "interpreter": {
        "hash": "31f2aee4e71d21fbe5cf8b01ff0e069b9275f58929596ceb00d14d90e3e16cd6"
      }
    }
  },
  "nbformat": 4,
  "nbformat_minor": 0
}